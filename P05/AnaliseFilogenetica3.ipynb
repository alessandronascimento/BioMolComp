{
  "nbformat": 4,
  "nbformat_minor": 0,
  "metadata": {
    "colab": {
      "name": "AnaliseFilogenetica3.ipynb",
      "provenance": []
    },
    "kernelspec": {
      "name": "python3",
      "display_name": "Python 3"
    },
    "language_info": {
      "name": "python"
    }
  },
  "cells": [
    {
      "cell_type": "markdown",
      "source": [
        "[![Open In Colab](https://colab.research.google.com/assets/colab-badge.svg)](https://colab.research.google.com/github/alessandronascimento/BioMolComp/blob/main/P05/AnaliseFilogenetica3.ipynb)"
      ],
      "metadata": {
        "id": "0ew4k2AFbrOG"
      }
    },
    {
      "cell_type": "markdown",
      "source": [
        "# Introdução #\n",
        "\n",
        "Obviamente, também podemos usar ferramentas do [Biopython](http://biopython.org) para análises filogenéticas.\n",
        "\n",
        "O Biopython ainda não é muito completo para esta finalidade. Mas algumas análises preliminares podem ser realizadas rapidamente com as ferramentas do Biopython."
      ],
      "metadata": {
        "id": "Y7xWtHyQb4zS"
      }
    },
    {
      "cell_type": "code",
      "source": [
        "#@title Preparando o Ambiente para a Execução\n",
        "\n",
        "# Installing Biopython and importing required libraries...\n",
        "\n",
        "!pip3 install biopython\n",
        "from Bio import SeqIO\n",
        "from Bio.Align.Applications import ClustalwCommandline\n",
        "from Bio import Phylo\n",
        "import os\n",
        "\n",
        "# Gettting ClustalW2....\n",
        "\n",
        "!wget http://www.clustal.org/download/current/clustalw-2.1-linux-x86_64-libcppstatic.tar.gz\n",
        "!tar -xzf clustalw-2.1-linux-x86_64-libcppstatic.tar.gz\n",
        "!mv clustalw-2.1-linux-x86_64-libcppstatic/clustalw2 .\n"
      ],
      "metadata": {
        "id": "GfzqnWQAb6f7"
      },
      "execution_count": null,
      "outputs": []
    },
    {
      "cell_type": "markdown",
      "source": [
        "# Análise Filogenética #\n",
        "\n",
        "Nesta seção, vamos fazer o download da sequência de domínios transcriptase reversa de retrotransposons do tipo non-LTR que já usamos anteriormente. \n",
        "\n",
        "Na sequência inspecionaremos as sequências presentes neste arquivo."
      ],
      "metadata": {
        "id": "mo-9mWhLelXO"
      }
    },
    {
      "cell_type": "code",
      "source": [
        "seq_file=\"filogenia1.fasta\"\n",
        "\n",
        "!wget https://raw.githubusercontent.com/alessandronascimento/BioMolComp/main/P05/filogenia1.fasta\n",
        "\n",
        "count=0\n",
        "for seq_record in SeqIO.parse(seq_file, \"fasta\"):\n",
        "    count = count+1\n",
        "    print(\"SeqID: %s\" % seq_record.id)\n",
        "    print(repr(seq_record.seq))\n",
        "    print(\"Sequence Length: %d\" % len(seq_record))\n",
        "print(\"\")    \n",
        "print(\"Number of sequences found: %d\" % count);\n"
      ],
      "metadata": {
        "id": "tpuBVFPmb_lW"
      },
      "execution_count": null,
      "outputs": []
    },
    {
      "cell_type": "markdown",
      "source": [
        "## Alinhamento das Sequências ##\n",
        "\n",
        "Nesta etapa, usamos o programa [ClustalW](http://www.clustal.org/clustal2/) para preparar um alinhamento múltiplo de sequências (MSA). Como o ClustalW utiliza o método progressivo para o alinhamento múltiplo, as distâncias entre as sequências já são calculadas e salvas juntamente com o alinhamento. Efetivamente, o programa gera um arquivo:\n",
        "\n",
        "```\n",
        "to store a dendrogram that describes the similarity\n",
        "of the sequences to each other.\n",
        "```\n",
        "\n",
        "Este arquivo **não é uma árvore filogenética**. Ele é a árvore guia (*guide-tree*) para a construção do alinhamento múltiplo. Mas, como o texto acima nos diz, ele agrupa as sequências similares, com as distâncias entre elas. Isto pode dar uma ideia do quão próximas as sequências são dentro de um alinhamento múltiplo.\n",
        "\n",
        "Na etapa abaixo, vamos fazer o alinhamento múltiplo (MSA) com o clustalw.\n"
      ],
      "metadata": {
        "id": "vruTd_lAe4JE"
      }
    },
    {
      "cell_type": "code",
      "source": [
        "clustalw_exe = r\"./clustalw2\"\n",
        "clustalw_cline = ClustalwCommandline(clustalw_exe, infile=seq_file, gapopen=5, gapext=0.1)\n",
        "assert os.path.isfile(clustalw_exe), \"Clustal W executable missing\"\n",
        "stdout, stderr = clustalw_cline()\n",
        "\n",
        "from Bio import AlignIO\n",
        "align = AlignIO.read(\"filogenia1.aln\", \"clustal\")\n",
        "for record in align:\n",
        "  print(\"%s - %s\" % (record.seq, record.id))\n"
      ],
      "metadata": {
        "id": "5c0a1dMOcUKw"
      },
      "execution_count": null,
      "outputs": []
    },
    {
      "cell_type": "markdown",
      "source": [
        "## Análise da Árvore Guia ##\n",
        "\n",
        "O programa ClustalW deve ter gerado dois arquivos. O arquivo filogenia1.aln foi o arquivo que visualizamos na célula acima. Este arquivo contém o alinhamento gerado pelo método progressivo.\n",
        "\n",
        "Já o arquivo filogenia1.dnd contem o dendograma com as distâncias (ou similaridades) que as sequências têm entre si. Este arquivo pode ser usado diretamente para a visualização de uma árvore de distâncias."
      ],
      "metadata": {
        "id": "NaKoCq2qfoLB"
      }
    },
    {
      "cell_type": "code",
      "source": [
        "tree = Phylo.read(\"filogenia1.dnd\", \"newick\")\n",
        "Phylo.draw_ascii(tree)"
      ],
      "metadata": {
        "id": "m9K10Sizcskw"
      },
      "execution_count": null,
      "outputs": []
    },
    {
      "cell_type": "markdown",
      "source": [
        "## Análise da Árvore ##\n",
        "\n",
        "No método acima, representamos uma árvore usando um formato de desenho em texto (ASCII). Esta metodologia é simples e rápida e os braços da árvore têm distâncias proporcionais à similaridade entre as sequências.\n",
        "\n",
        "É possível também gerar uma imagem com a árvore, desde que a biblioteca matplotlib esteja instalada e disponível (ela usualmente está disponível no Google Colab)."
      ],
      "metadata": {
        "id": "9tkL0zRmgF8f"
      }
    },
    {
      "cell_type": "code",
      "source": [
        "tree.rooted = True\n",
        "Phylo.draw(tree)"
      ],
      "metadata": {
        "id": "Apxa8sg3dTsI"
      },
      "execution_count": null,
      "outputs": []
    },
    {
      "cell_type": "markdown",
      "source": [
        "Compare a árvore obtida nesta análise com a árvore obtida na análise filogenética realizada com o MEGA11. Elas são similares? "
      ],
      "metadata": {
        "id": "zMdU8SbJcpuF"
      }
    }
  ]
}