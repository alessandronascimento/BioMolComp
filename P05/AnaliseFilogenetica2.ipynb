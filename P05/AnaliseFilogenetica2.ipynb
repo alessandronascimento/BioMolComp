{
  "nbformat": 4,
  "nbformat_minor": 0,
  "metadata": {
    "colab": {
      "name": "AnaliseFilogenetica2.ipynb",
      "provenance": []
    },
    "kernelspec": {
      "name": "python3",
      "display_name": "Python 3"
    },
    "language_info": {
      "name": "python"
    }
  },
  "cells": [
    {
      "cell_type": "markdown",
      "source": [
        "[![Open In Colab](https://colab.research.google.com/assets/colab-badge.svg)](https://colab.research.google.com/github/alessandronascimento/BioMolComp/blob/main/P05/AnaliseFilogenetica2.ipynb)"
      ],
      "metadata": {
        "id": "UjIlhQBzY9rf"
      }
    },
    {
      "cell_type": "markdown",
      "source": [
        "# Análise Filogenética de Sequências #\n",
        "\n",
        "1. Procure no banco de dados do [Entrez](https://www.ncbi.nlm.nih.gov/) as sequências com o número de acesso CAJ00246.1 e CAJ00242.1. Estas serão as sequências que você deseja analisar e definir a que família pertencem.\n",
        "\n",
        "2. Utilize a ferramenta de predição de domínios do próprio NCBI e tente detectar o domínio da transcriptase reversa nestas sequências.\n",
        "\n",
        "3. Para cada uma das sequências selecione apenas a região do domínio da RT. Para isso, vá até a pagina do Entrez e encontre a sequências fasta de cada proteína. Selecione a região desejada (deduzida a partir do programa de predição de domínios), colocando as coordenadas no campo “*change region shown*” e aperte o botão *update view*.\n",
        "\n",
        "4. Uma nova sequência FASTA aparecerá contendo apenas a região do domínio. Copie as sequências dos domínios dos dois elementos para o arquivo filogenia1.fasta, nomeando-as conforme o padrão do arquivo como **>TPA_poliprotein** (para CAJ00246.1) e **>TPA_Sm** (para CAJ00242.1). Salve o novo arquivo como **filogenia2.fasta**.\n",
        "\n",
        "5. **Inspecione a nova árvore produzida. É possível classificar os dois elementos-problemas em que famílias? Esta sua classificação possui bom suporte de “bootstrap”? Explique. (Q2)**\n",
        "\n",
        "6. **Explique por que as duas sequências problemas encontram-se a uma grande distância uma da outra na árvore construída, apesar de pertencerem ao mesmo organismo. (Q3)**"
      ],
      "metadata": {
        "id": "2Fj1QmQcZCQH"
      }
    }
  ]
}