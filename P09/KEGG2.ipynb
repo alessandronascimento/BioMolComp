{
  "nbformat": 4,
  "nbformat_minor": 0,
  "metadata": {
    "colab": {
      "name": "KEGG2.ipynb",
      "provenance": [],
      "collapsed_sections": []
    },
    "kernelspec": {
      "name": "python3",
      "display_name": "Python 3"
    },
    "language_info": {
      "name": "python"
    }
  },
  "cells": [
    {
      "cell_type": "markdown",
      "source": [
        "[![Open In Colab](https://colab.research.google.com/assets/colab-badge.svg)](https://colab.research.google.com/github/alessandronascimento/BioMolComp/blob/main/P09/KEGG2.ipynb)"
      ],
      "metadata": {
        "id": "4FYnReKTUuQ5"
      }
    },
    {
      "cell_type": "markdown",
      "source": [
        "# Análise de Dados do KEGG através do Biopython #\n",
        "\n",
        "O banco de dados KEGG é acessível através do Biopython. "
      ],
      "metadata": {
        "id": "dQcoemaQUXIr"
      }
    },
    {
      "cell_type": "code",
      "source": [
        "!pip3 install biopython\n",
        "from Bio.KEGG import REST\n"
      ],
      "metadata": {
        "id": "Ks2jRpXcVweA"
      },
      "execution_count": null,
      "outputs": []
    },
    {
      "cell_type": "code",
      "source": [
        "path_name = \"Clavulanic\" #@param {type:\"string\"}\n",
        "organism = \"sclf\" #@param {type:\"string\"}\n"
      ],
      "metadata": {
        "id": "MzQN-BOP5Utq"
      },
      "execution_count": 17,
      "outputs": []
    },
    {
      "cell_type": "code",
      "source": [
        "kegg_pathways = REST.kegg_list(\"pathway\", organism).read()\n",
        "\n",
        "# Filter all human pathways for repair pathways\n",
        "clav_pathways = []\n",
        "clav_descriptions = []\n",
        "for line in kegg_pathways.rstrip().split(\"\\n\"):\n",
        "    entry, description = line.split(\"\\t\")\n",
        "    if path_name in description:\n",
        "      clav_pathways.append(entry)\n",
        "      clav_descriptions.append(description)\n",
        "\n",
        "print(\"%4d via(s) identificada(s) envolvendo %s:\\n\" % (len(clav_pathways), path_name))\n",
        "for i in range(0, len(clav_pathways)):\n",
        "  print(\"%10s %30s\\n\" % (clav_pathways[i], clav_descriptions[i]))"
      ],
      "metadata": {
        "id": "UzQL1jyjVzwq"
      },
      "execution_count": null,
      "outputs": []
    },
    {
      "cell_type": "code",
      "source": [
        "# Get the genes for pathways and add them to a list\n",
        "clav_genes = []\n",
        "gene_descriptions = []\n",
        "clav_compounds = []\n",
        "cpd_descriptions = []\n",
        "\n",
        "for pathway in clav_pathways:\n",
        "    pathway_file = REST.kegg_get(pathway).read()  # query and read each pathway\n",
        "\n",
        "    # iterate through each KEGG pathway file, keeping track of which section\n",
        "    # of the file we're in, only read the gene in each pathway\n",
        "    current_section = None\n",
        "    for line in pathway_file.rstrip().split(\"\\n\"):\n",
        "        section = line[:12].strip()  # section names are within 12 columns\n",
        "        if not section == \"\":\n",
        "            current_section = section\n",
        "\n",
        "        if current_section == \"GENE\":\n",
        "            gene_identifiers, gene_description = line[12:].split(\"  \")\n",
        "            desc = gene_description.split();\n",
        "\n",
        "            if not gene_identifiers in clav_genes:\n",
        "                clav_genes.append(gene_identifiers)\n",
        "                gene_descriptions.append(gene_description)\n",
        "\n",
        "        elif current_section == \"COMPOUND\":\n",
        "            cpd_identifiers, cpd_description = line[12:].split(\"  \")\n",
        "            clav_compounds.append(cpd_identifiers)\n",
        "            cpd_descriptions.append(cpd_description)\n",
        "\n",
        "print(\"Foram identificados %d genes na via:\" % (len(clav_genes)))\n",
        "print(\"%-20s %-50s %-20s\" % (\"#Gene\", \"Anotacao\", \"EC/KO\"))\n",
        "for i in range(0,len(clav_genes)):\n",
        "  desc = gene_descriptions[i].split()\n",
        "  print(\"%-20s %-50s %-20s\" % (clav_genes[i], gene_descriptions[i], desc[len(desc)-1]))\n",
        "\n",
        "print()\n",
        "print()\n",
        "\n",
        "print(\"Foram identificados %d compostos na via:\" % (len(clav_compounds)))\n",
        "print(\"%-20s %-50s\" % (\"#Composto\", \"Anotacao\"))\n",
        "for i in range(0,len(clav_compounds)):\n",
        "  print(\"%-20s %-50s\" % (clav_compounds[i], cpd_descriptions[i]))"
      ],
      "metadata": {
        "id": "RynGxmNUUny7"
      },
      "execution_count": null,
      "outputs": []
    },
    {
      "cell_type": "code",
      "source": [
        "print(\"Buscando informacoes sobre os genes da via....\")\n",
        "for i in range(0,len(clav_genes)):\n",
        "  print(organism+':'+clav_genes[i])\n",
        "  kegg_aaseq = REST.kegg_get(str(organism+\":\"+clav_genes[i]), \"aaseq\").read()\n",
        "  kegg_ntseq = REST.kegg_get(str(organism+\":\"+clav_genes[i]), \"ntseq\").read()\n",
        "  print(kegg_ntseq)\n",
        "  print(kegg_aaseq)\n",
        "  print()\n",
        "  print()\n"
      ],
      "metadata": {
        "id": "3q47KuhK1q2-"
      },
      "execution_count": null,
      "outputs": []
    }
  ]
}