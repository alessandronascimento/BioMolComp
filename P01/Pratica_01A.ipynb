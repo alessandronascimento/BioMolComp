{
  "nbformat": 4,
  "nbformat_minor": 0,
  "metadata": {
    "colab": {
      "name": "Pratica_01A.ipynb",
      "provenance": [],
      "collapsed_sections": []
    },
    "kernelspec": {
      "name": "python3",
      "display_name": "Python 3"
    },
    "language_info": {
      "name": "python"
    }
  },
  "cells": [
    {
      "cell_type": "markdown",
      "source": [
        "# Primeira Parte\n",
        "\n",
        "## Importando bibliotecas"
      ],
      "metadata": {
        "id": "Mz0JVLnbGHvQ"
      }
    },
    {
      "cell_type": "code",
      "execution_count": null,
      "metadata": {
        "id": "cJxSy3AmKCM4",
        "colab": {
          "base_uri": "https://localhost:8080/"
        },
        "outputId": "e0c868d2-9d21-4d2d-84d1-ff8c83a25c79"
      },
      "outputs": [
        {
          "output_type": "stream",
          "name": "stdout",
          "text": [
            "Requirement already satisfied: biopython in /usr/local/lib/python3.7/dist-packages (1.79)\n",
            "Requirement already satisfied: numpy in /usr/local/lib/python3.7/dist-packages (from biopython) (1.21.5)\n"
          ]
        }
      ],
      "source": [
        "\n",
        "import sys, os\n",
        "!pip3 install biopython\n",
        "from Bio import SeqIO\n",
        "from Bio.Seq import Seq\n",
        "from Bio import pairwise2\n"
      ]
    },
    {
      "cell_type": "markdown",
      "source": [
        "# Segunda Parte\n",
        "## Entrada com as sequências"
      ],
      "metadata": {
        "id": "Qjes7D1xGYdH"
      }
    },
    {
      "cell_type": "code",
      "source": [
        "seq_f = \"CCCCCCCGAACGACGGCAGCGAACTGCTCCTCGACCACCTACTAGGGCGAACTTGGCGCCCGACGCTCGCACTGCTCCCGCGCCGCCCACTGGCGCGCCGCGCGCGCACCTTCCGCNCCTTTAACTGGCCTACCAGCGCCACTTTGACTACTTGACTCCACTACTCACACGCTGTTTACTACTTACCACCTGCTTCCNACTCCTTACTNTCCTGCGCTCTCTACTTTTTGATAGTCTTCAACACACGCTAGAATAGCGCAACGTTGCAGCGACCTATAGCAGCAGGCAAACAACAGCAATAATTAAGAATATATGGCCTTTAACTTTCCCTAAACCCCAGAGAAGAGGAGGGAAAACACACTTTCCACACTCCGGAAAACCTTATTGGGCTATAAAGGTAGGTTATATTAAATTATGGAAACAATCGGAAAAGGAAAAATTAATTAGGTAACCAATTGGGTTATCAAAACCCTTGCATTTNTTCNACTTTACACAACACCTTGGTTACATTATTTACANTCGNTAGGAAAANATATNAAAAGCCATTCTAAAGNAACCAAAGCAGGAATATCAACCCTTATGCTAAGTTAAACCAATTAAATTCCCCAAACTTATAAAATTATTATTATNACAGNTACCCANATTTGGGGGTTACATATAAGCATTTAACACCCTTTAAACCTTTGGTTACACCTAAACAAAGTGCCAAACGAACCTTGTAATTAGAAAGAACGGGGGCAATACCCTNACCATATTGANCCAAATTAAATTAGAAAAAGAAAAAAGAAAGCCGAACAATTTNGGGCGACGTTATGGCAACACCCCACTTATAAGGATACTGACCTTTATGGGTGTACAACAGCANAAACGTCCAATCTAGTTATACACAACTTTTCTANTGTACATNACTTCACACAACTTCCCGGAACTTTAAAAATTCGA\" #@param {type:\"string\"}\n",
        "seq_r = \"AGCTATTAGGTGACACCATAGAATACTCAAGCTATGCATCCAACGCGTTGGGAGCTCTCCCATATGGTCGACCTGCAGGCGGCGCGAAATTCACTAGTGATTATCGATTTATTATAATTAACATGATTGTACAGAACAATGTTCATGCAATGTGGTCTTCTTCATATGAAAGGAGATCCCTCTCATCATTTGATTTAGTACAGCTAAGTTATTAGACCATGACTAAACATTAGCTGGGATATGTACACAAGCTAACTCTTCTGTCTATGTTAAATTTCNCGAAAACATACATTCTTATAAAACTCANGNTTANACACAATGAACCATNTTTCTTTCGTTTCATTAAACCACAAACCCAACAGTTACGATCTNTAATTTTCCCCCTACTGGTAAAGAAATAAGCCAAATCTATAATTCTTNTATACTCCCAAGGTCCCACTTTCCCATTCAACCTATTTGCACACGGACCTAATTCCACACCACTCAGAAGACCCAGAAAAAAATAACACGGCATTCAACAACAANTGGTCAAANTANTTACACAACCACACCTTGATAATTTGNGCAAGTCAAATAATNCAAAAAATTCCCCCTAGATTACGAACCAATTTAACAAATCC\" #@param {type:\"string\"}\n",
        "\n",
        "my_seq_F = Seq(seq_f)\n",
        "my_seq_R = Seq(seq_r)\n"
      ],
      "metadata": {
        "id": "QWU1zd31Xcbe"
      },
      "execution_count": null,
      "outputs": []
    },
    {
      "cell_type": "markdown",
      "source": [
        "# Terceira Parte\n",
        "\n",
        "## Gerando sequência complementar e alinhando as sequências forward e reverse"
      ],
      "metadata": {
        "id": "l2_raV4lGgJK"
      }
    },
    {
      "cell_type": "code",
      "source": [
        "my_seq_rev = Seq(my_seq_R.reverse_complement())\n",
        "align = pairwise2.align.globalxx(my_seq_F, my_seq_rev)\n",
        "\n",
        "print(pairwise2.format_alignment(*align[0]))\n"
      ],
      "metadata": {
        "id": "FspGD_2kQ-5V",
        "colab": {
          "base_uri": "https://localhost:8080/"
        },
        "outputId": "8652a580-e197-4b59-ffb4-9a9e8b7991e9"
      },
      "execution_count": null,
      "outputs": [
        {
          "output_type": "stream",
          "name": "stdout",
          "text": [
            "CCCCCCCGAACGACG---GC--AGCGAACT-GC-TCCTCG-ACCACCTACTAGGGCG-AACTTGGCGCCCGACGCTC---GC-ACTGCTCCCGCGCCGCCCACTGGCGCGCCGCGCGC--GCACCTTCCGCNCC---TT-T-AACTGGCCTACCAGC-GCCAC-TT-TG-AC--TAC-TT-GACTCCAC-TACTCACACGCTGT-TT-ACTACTTACCA-CC-TGCTTCCNACTCCTTACTNTC--CTGCGC-TCTCTACTT---T--T-TG-A-T-AG-TC--T-T-CAACAC-ACGC-TA-GAATAGCGC-AAC-GTTGCAGCGACCTATAGCAGCAGGCAA--AC-A-ACAGCAATAATTA-AGAATATATGGCCTTTAACTTTCCCTAA--ACCCCAGAGAAG-AGGAGGGAAAACACACTTTCCAC-AC--TCCGGAA-AACCTTA-TTGGGCTATAAAG-GTAGGTTATATTAAATTATGGAAACAATCGGAAAAGGAAAAATTA-ATTAGGTAAC-CAATTGGGT-TA-TCAAAACC-CT-TGCAT-TTNTTCNACTTTACACA-ACACCTTGGTTACATTA-TTTACANTCGNTAGGAAAANATATNAA-AAGCCATTCTAAAGNAACCA-AAGCAGGAATATCAACC-CTTATGCTAAGTTAAACCAATTAAATTCCCCAAA-CTTATAAAATTATTA-TTATNACAGNTACCCANATTTGGGGGTTACATATAAGCATTTAACACCCTTTAAAC-CTTTGGTTACACCTAAA-CAAAGTGCCAA--ACGA---A-C-C-TTGTA-ATTA-GAAAGAACGGGGGCAATACCCTNACCATATTGANCCAAATT-AA-ATTAGA------A-AA--A-GA--AA--A-AAG-AAAGC-CGAAC-AATTTNGGGCGACGTTATG-GCAA---CA-C-CC-CACTTATA--AGGATACTGACCTT-TATGGGTGTACAACAGCANAAACG-TCC-AATCTAG--TT--ATACA-CA-A-CTTTTCT-ANTGTA--CATNACT--TCA--CACAACTTCCCGGAACTTTAAAAATTCGA--\n",
            "       |   ||     |   |   || | |  |  ||| |  |  | |||||| | || ||            |    |  | |  |            | |                | | |||  ||| |   || | ||  ||  |    |  |     || || |   ||  || ||  |||  |  |     | | | || |  |  |     || || ||   | |  ||  | |   ||| |  ||| | | |   |  | || | | || ||  | | ||| |  | |  |  |||| | |  ||  | ||  | ||||| |    |  ||  |  |  | | ||    ||||| || || | ||| | || | |||  ||    |  ||     || ||| |||  || | |  ||  |  |   | | |   || | |  ||||| | |     || ||   | ||  |  || |  | || | | ||| |   ||  | | | |||    | |||  || |  |   ||   |  || |  || ||  |   |  | | | |   | | |  | |  |||    ||||   |  || || |    ||  ||   |  ||  | || ||| | |  | |  |   | | || |  | |  | | | |  | | |||  | |   |   |  | |  || |   || |   |  |  |   || | |   | |  |  | | |  | ||  |  |  | | |  | ||||| |||| ||   |  | ||   | | | || |  | || | |||||     |    | ||  | |  ||||   |  | | || ||| |       | ||  | |   ||  | ||  |||   || |  ||  |    | ||  || | | ||   |  | || | |   |   ||| | | ||||   ||| || |      ||     | | ||| || |  |  ||  ||    || | |   | | |  |||  | | | |  |    |||  | |     ||   |    |   |   \n",
            "-------G---GA--TTTG-TTA---AA-TTG-GT--TCGTA--A--T-CTAGGG-GGAA-TT------------T-TTTG-NA-T--T------------A-T--------------TTG-A-CTT--GCN-CAAATTATCAA--GG--T----G-TG----GTTGTGTA-ANTA-NTTTGA--CCA-NT--T-----G-T-TGTTGA--A--T----GCCGTG-TT---A-T--TT--T-T-TTCTG-G-GTCT-T-C-TGAGTGGTGTGGAATTAGGTCCGTGTGCAA-A-TA-G-GT-TGAAT-G-G-GAA-AG-TG--G-GACCT-T----G--GG--AGTA-TANA-AG----AATTATAG-AT-T-TGG-C-TT-A-TTT--CT--TTA--CC-----AGTAGG-GGG--AA-A-A--TT--A-NA-GAT-C-G--TAA-C-T-GTTGGG-T-T----TGT-GG---T-TT--A--AT-G--A-AA-C-G-AAA-G---AA--ANA-T-GGT---TC-ATT--GTGT-NT---AA--NC-NTG-A-GTT-TT--A---T--A-AGA-A---T-G-T--A-T-GTTT----TCGN---G--AA-AT-T---TAA--CA---T--AG--A-CAGAAG-A-G--T-T--A--GC-T-TG-T--G-T--A-C-A-T--A-T-CCC--AGC---T---A--A-T-GTT-T---AG-T---C--A--T---GG-T-C---T-A--A--T-A-A--C-TT--A-GC--T-G-T--A-CTAAATCAAA-TG---ATGA-GAGGGATCTCCTT-T-CA-TATG-AAGAA-----G----A-CC--A-C--ATTG---C--A-TGAACATT-G-TTCTGTACAATCATG-TTAATTATAA-TAAA--TCG-A-TAA--T----C-AC--TA-GTG-AATTTC-GCGCCGC-C---T-GCAGG-T-C-GACC--ATAT-GG-G------AG-----A-GCTCCCAA-C--GCGTTGGAT---GCATAGC---T-TGA--GTATTC-T-A-TGGT--GTCAC--C-T-----AA---T----A---G-CT\n",
            "  Score=477\n",
            "\n"
          ]
        }
      ]
    }
  ]
}