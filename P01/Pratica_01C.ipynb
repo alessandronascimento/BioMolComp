{
  "nbformat": 4,
  "nbformat_minor": 0,
  "metadata": {
    "colab": {
      "name": "Pratica_01C.ipynb",
      "provenance": [],
      "collapsed_sections": []
    },
    "kernelspec": {
      "name": "python3",
      "display_name": "Python 3"
    },
    "language_info": {
      "name": "python"
    }
  },
  "cells": [
    {
      "cell_type": "code",
      "execution_count": null,
      "metadata": {
        "colab": {
          "base_uri": "https://localhost:8080/"
        },
        "id": "BQS9zr0al4p3",
        "outputId": "6c108a1b-342c-46f4-aaa3-f2d18708783b"
      },
      "outputs": [
        {
          "output_type": "stream",
          "name": "stdout",
          "text": [
            "Requirement already satisfied: biopython in /usr/local/lib/python3.7/dist-packages (1.79)\n",
            "Requirement already satisfied: numpy in /usr/local/lib/python3.7/dist-packages (from biopython) (1.21.5)\n",
            "CLUSTAL X (1.81) multiple sequence alignment\n",
            "\n",
            "\n",
            "<unknown_id>                        AGCTATTAGGTGACACCATAGAATACTCAAGCTATGCATCCAACGCGTTG\n",
            "\n",
            "<unknown_id>                        GGAGCTCTCCCATATGGTCGACCTGCAGGCGGCGCGAAATTCACTAGTGA\n",
            "\n",
            "<unknown_id>                        TTATCGATTTATTATAATTAACATGATTGTACAGAACAATGTTCATGCAA\n",
            "\n",
            "<unknown_id>                        TGTGGTCTTCTTCATATGAAAGGAGATCCCTCTCATCATTTGATTTAGTA\n",
            "\n",
            "<unknown_id>                        CAGCTAAGTTATTAGACCATGACTAAACATTAGCTGGGATATGTACACAA\n",
            "\n",
            "<unknown_id>                        GCTAACTCTTCTGTCTATGTTAAATTTCNCGAAAACATACATTCTTATAA\n",
            "\n",
            "<unknown_id>                        AACTCANGNTTANACACAATGAACCATNTTTCTTTCGTTTCATTAAACCA\n",
            "\n",
            "<unknown_id>                        CAAACCCAACAGTTACGATCTNTAATTTTCCCCCTACTGGTAAAGAAATA\n",
            "\n",
            "<unknown_id>                        AGCCAAATCTATAATTCTTNTATACTCCCAAGGTCCCACTTTCCCATTCA\n",
            "\n",
            "<unknown_id>                        ACCTATTTGCACACGGACCTAATTCCACACCACTCAGAAGACCCAGAAAA\n",
            "\n",
            "<unknown_id>                        AAATAACACGGCATTCAACAACAANTGGTCAAANTANTTACACAACCACA\n",
            "\n",
            "<unknown_id>                        CCTTGATAATTTGNGCAAGTCAAATAATNCAAAAAATTCCCCCTAGATTA\n",
            "\n",
            "<unknown_id>                        CGAACCAATTTAACAAATCC\n",
            "\n",
            "\n",
            "\n"
          ]
        }
      ],
      "source": [
        "!pip3 install biopython\n",
        "from Bio import SeqIO\n",
        "from Bio.Seq import Seq\n",
        "from Bio.SeqRecord import SeqRecord\n",
        "\n",
        "unformatted_seq = \"AGCTATTAGGTGACACCATAGAATACTCAAGCTATGCATCCAACGCGTTGGGAGCTCTCCCATATGGTCGACCTGCAGGCGGCGCGAAATTCACTAGTGATTATCGATTTATTATAATTAACATGATTGTACAGAACAATGTTCATGCAATGTGGTCTTCTTCATATGAAAGGAGATCCCTCTCATCATTTGATTTAGTACAGCTAAGTTATTAGACCATGACTAAACATTAGCTGGGATATGTACACAAGCTAACTCTTCTGTCTATGTTAAATTTCNCGAAAACATACATTCTTATAAAACTCANGNTTANACACAATGAACCATNTTTCTTTCGTTTCATTAAACCACAAACCCAACAGTTACGATCTNTAATTTTCCCCCTACTGGTAAAGAAATAAGCCAAATCTATAATTCTTNTATACTCCCAAGGTCCCACTTTCCCATTCAACCTATTTGCACACGGACCTAATTCCACACCACTCAGAAGACCCAGAAAAAAATAACACGGCATTCAACAACAANTGGTCAAANTANTTACACAACCACACCTTGATAATTTGNGCAAGTCAAATAATNCAAAAAATTCCCCCTAGATTACGAACCAATTTAACAAATCC\" #@param {type:\"string\"}\n",
        "\n",
        "my_seq = Seq(unformatted_seq)\n",
        "my_seq_Rec = SeqRecord(my_seq)\n",
        "print(my_seq_Rec.format(\"clustal\"))\n",
        "\n",
        "\n",
        "\n"
      ]
    }
  ]
}