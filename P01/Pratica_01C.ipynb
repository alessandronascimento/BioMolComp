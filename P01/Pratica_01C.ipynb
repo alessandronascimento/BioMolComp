{
  "nbformat": 4,
  "nbformat_minor": 0,
  "metadata": {
    "colab": {
      "name": "Pratica_01C.ipynb",
      "provenance": []
    },
    "kernelspec": {
      "name": "python3",
      "display_name": "Python 3"
    },
    "language_info": {
      "name": "python"
    }
  },
  "cells": [
    {
      "cell_type": "markdown",
      "source": [
        "[![Open In Colab](https://colab.research.google.com/assets/colab-badge.svg)](https://colab.research.google.com/github/alessandronascimento/BioMolComp/blob/main/P01/Pratica_01C.ipynb)\n",
        "\n",
        "# Conversão de Formato de Sequências\n",
        "\n",
        "As sequências de dados biológicos, proteína, DNA ou RNA, podem ser apresentadas em diversos formatos de arquivo e a conversão entre os diferentes formatos pode gerar problemas nas análises, muitas vezes. Assim, é sempre útil dispor de ferramentas de conversão de formato para sequências biológicas."
      ],
      "metadata": {
        "id": "9yoNOsjvX_td"
      }
    },
    {
      "cell_type": "code",
      "execution_count": null,
      "metadata": {
        "id": "BQS9zr0al4p3"
      },
      "outputs": [],
      "source": [
        "!pip3 install biopython\n",
        "from Bio import SeqIO\n",
        "from Bio.Seq import Seq\n",
        "from Bio.SeqRecord import SeqRecord"
      ]
    },
    {
      "cell_type": "code",
      "source": [
        "unformatted_seq = \"\" #@param {type:\"string\"}\n",
        "\n",
        "my_seq = Seq(unformatted_seq)\n",
        "my_seq_Rec = SeqRecord(my_seq)\n",
        "print(my_seq_Rec.format(\"fasta\"))\n",
        "\n",
        "\n",
        "\n"
      ],
      "metadata": {
        "id": "3OTvGefZYNxL"
      },
      "execution_count": null,
      "outputs": []
    },
    {
      "cell_type": "markdown",
      "source": [
        "O código acima \"lê\" uma sequência de input e a converte para um formato específico. No caso do nosso código, o formato de saída é o formato FASTA. Experimente outros formatos:\n",
        "\n",
        "*   pir\n",
        "*   clustal\n",
        "*   stockholm\n",
        "\n",
        "\n"
      ],
      "metadata": {
        "id": "OHZGkaVnY2cR"
      }
    }
  ]
}