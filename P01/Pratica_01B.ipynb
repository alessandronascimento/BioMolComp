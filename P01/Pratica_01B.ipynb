{
  "nbformat": 4,
  "nbformat_minor": 0,
  "metadata": {
    "colab": {
      "name": "Pratica_01B.ipynb",
      "provenance": []
    },
    "kernelspec": {
      "name": "python3",
      "display_name": "Python 3"
    },
    "language_info": {
      "name": "python"
    }
  },
  "cells": [
    {
      "cell_type": "markdown",
      "source": [
        "[![Open In Colab](https://colab.research.google.com/assets/colab-badge.svg)](https://colab.research.google.com/github/alessandronascimento/BioMolComp/blob/main/P01/Pratica_01B.ipynb)\n",
        "\n",
        "# Mostrando um Cromatograma com o BioPython\n",
        "\n",
        "Cromatogramas similares aos que foram analisados nos itens anteriores podem também ser visualizados no BioPython. O script abaixo permite carregar um arquivo local e representar o cromatograma em um gráfico.\n",
        "\n",
        "Para isso, baixe o arquivo de cromatograma [3100.ab1](https://github.com/alessandronascimento/BioMolComp/raw/main/P01/3100.ab1)."
      ],
      "metadata": {
        "id": "FuYpKDPfb5FT"
      }
    },
    {
      "cell_type": "code",
      "execution_count": null,
      "metadata": {
        "id": "rmRi9VoRjxnt"
      },
      "outputs": [],
      "source": [
        "# \n",
        "# Importando bibliotecas necessarias\n",
        "#\n",
        "\n",
        "import sys, os\n",
        "!pip3 install biopython\n",
        "from Bio import SeqIO\n",
        "from Bio.Seq import Seq\n",
        "from Bio import pairwise2\n",
        "from collections import defaultdict\n",
        "from google.colab import files\n",
        "import matplotlib.pyplot as plt\n",
        "\n",
        "#\n",
        "# Upload do arquivo ab1\n",
        "#\n",
        "\n",
        "uploaded = files.upload()"
      ]
    },
    {
      "cell_type": "code",
      "source": [
        "for fn in uploaded.keys():\n",
        "  print('User uploaded file \"{name}\" with length {length} bytes'.format(\n",
        "      name=fn, length=len(uploaded[fn])))\n",
        "  record = SeqIO.read(fn, \"abi\")\n",
        "  channels = [\"DATA9\", \"DATA10\", \"DATA11\", \"DATA12\"]\n",
        "  trace = defaultdict(list)\n",
        "  for c in channels:\n",
        "    trace[c] = record.annotations[\"abif_raw\"][c]\n",
        "\n",
        "#\n",
        "# Preparando o gráfico\n",
        "#\n",
        "\n",
        "  plt.plot(trace[\"DATA9\"], color=\"blue\")\n",
        "  plt.plot(trace[\"DATA10\"], color=\"red\")\n",
        "  plt.plot(trace[\"DATA11\"], color=\"green\")\n",
        "  plt.plot(trace[\"DATA12\"], color=\"yellow\")\n",
        "#  plt.xlim([0, 500])\n",
        "  plt.show()"
      ],
      "metadata": {
        "id": "yj3akTUGcokl"
      },
      "execution_count": null,
      "outputs": []
    },
    {
      "cell_type": "markdown",
      "source": [
        "O gráfico contendo o cromatograma será exibido. Este gráfico, da forma como o geramos aqui, não é muito útil, mas o script demonstra que uma análise dos dados originais do cromatograma é possível com ferramentas simples de programação.\n",
        "\n",
        "Outra coisa a notar: existem 10 valores de cromatograma por base nos dados. Portanto, isso significa que pode ser aconselhável extrair cada 5.o valor, para que o comprimento final da matriz de rastreamento de sequência corresponda ao número de posições que deveriam ter sido sequenciadas, em vez de ser 10x maior."
      ],
      "metadata": {
        "id": "V9Ibrf7Wd6ya"
      }
    }
  ]
}