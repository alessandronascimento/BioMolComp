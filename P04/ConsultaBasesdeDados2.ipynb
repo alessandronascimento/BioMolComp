{
  "nbformat": 4,
  "nbformat_minor": 0,
  "metadata": {
    "colab": {
      "name": "ConsultaBasesdeDados2.ipynb",
      "provenance": [],
      "collapsed_sections": []
    },
    "kernelspec": {
      "name": "python3",
      "display_name": "Python 3"
    },
    "language_info": {
      "name": "python"
    }
  },
  "cells": [
    {
      "cell_type": "markdown",
      "source": [
        "[![Open In Colab](https://colab.research.google.com/assets/colab-badge.svg)](https://colab.research.google.com/github/alessandronascimento/BioMolComp/blob/main/P04/ConsultaBasesdeDados2.ipynb)"
      ],
      "metadata": {
        "id": "pAIX6FSThK4t"
      }
    },
    {
      "cell_type": "markdown",
      "source": [
        "# Consulta em Bases de Dados - Parte 2 #\n",
        "\n",
        "Nesta segunda seção, vamos retomar as consultas em bases de dados, mas desta vez usaremos o Biopython para esta finalidade.\n",
        "\n",
        "Eventualmente o pesquisador possui muitas sequências e/ou entradas para pesquisar em uma base de dados com a Entrez, por exemplo. Nestes casos, executar a consulta das entradas uma a uma através do portal WWW pode ser um processo trabalhoso e demorado.\n",
        "\n",
        "O NCBI oferece a possibilidade de consultas à base de dados a partir de programas ou scripts que acessam diretamente o banco de dados dos servidores do NCBI. As consultas realizadas desta forma têm algumas regras (limite de consultas por minuto, por exemplo) que têm que ser satisfeitas. Do contrário, o acesso pode ser bloqueado. \n",
        "\n",
        "Nesta seção da prática, faremos a consulta de algumas sequências do vírus SARS-Cov2 sem usar a interface web e empregando ferramentas do Biopython para esta finalidade. "
      ],
      "metadata": {
        "id": "tFnMzklQhPUq"
      }
    },
    {
      "cell_type": "code",
      "source": [
        "#@title Preparando o Ambiente para a Execução\n",
        "\n",
        "!pip3 install biopython\n",
        "\n",
        "from Bio import SeqIO\n",
        "from Bio.Seq import Seq\n",
        "from Bio import Entrez\n",
        "from Bio.Blast import NCBIWWW\n",
        "from Bio.Blast import NCBIXML\n",
        "\n",
        "from google.colab import auth\n",
        "auth.authenticate_user()\n",
        "\n",
        "import requests\n",
        "\n",
        "gcloud_token = !gcloud auth print-access-token\n",
        "gcloud_tokeninfo = requests.get('https://www.googleapis.com/oauth2/v3/tokeninfo?access_token=' + gcloud_token[0]).json()\n",
        "#print(gcloud_tokeninfo['email'])\n",
        "user_email = gcloud_tokeninfo['email']\n",
        "print(\"User email %s will be used to autenticate Entrez access.\" % user_email)"
      ],
      "metadata": {
        "id": "eeBl6avCiLul"
      },
      "execution_count": null,
      "outputs": []
    },
    {
      "cell_type": "markdown",
      "source": [
        "### Consulta à Base de Dados Entrez Através do Biopython ###\n",
        "\n",
        "Vamos consultar à base de dados Entrez. Esta base de dados **requer que o usuário se identifique ao fazer o login**. Por esta razão estamos usando a ferramenta de autenticação do Google na primeira célula de código. Esta ferramenta de autenticação permite que o email do usuário seja passado na variável user_email no código abaixo.\n",
        "\n",
        "A autenticação é uma das regras de uso do Entrez. Caso um usuário exceda as regras de uso, ele *receberá um aviso por email antes de ser bloqueado pelo servidor*."
      ],
      "metadata": {
        "id": "qPVEVJwxiHbQ"
      }
    },
    {
      "cell_type": "markdown",
      "source": [
        "### Fazendo uma consulta à base de nucleotídeos\n",
        "\n",
        "Nos códigos abaixo, vamos fazer uma consulta à base de dados de nucleotídeos (Genebank). O resultado vai ser mostrado na forma de texto simples com os resultados da entrada.\n",
        "\n",
        "Vamos repetir a busca que fizemos na primeira parte desta prática: o genoma do vírus SARS-Cov2. A entrada deste genoma no banco de dados de nucleotídeos é o **NC_045512.2**.\n",
        "\n",
        "Usando o formulário abaixo, coloque esta entrada no ID da base de dados de nucleotídeos e faça a busca na base de dados.\n",
        "\n"
      ],
      "metadata": {
        "id": "kVm-y0afxBpD"
      }
    },
    {
      "cell_type": "code",
      "source": [
        "nucleotide_id = \"\" #@param {type:\"string\"}\n",
        "\n",
        "Entrez.email = user_email\n",
        "handle = Entrez.efetch(db=\"nucleotide\", id=nucleotide_id, rettype=\"gb\", retmode=\"text\")\n",
        "print(handle.read())"
      ],
      "metadata": {
        "id": "z1t3678lxdVy"
      },
      "execution_count": null,
      "outputs": []
    },
    {
      "cell_type": "markdown",
      "source": [
        "### Fazendo uma consulta à base de nucleotídeos ###\n",
        "\n",
        "Agora vamos repetir a busca que fizemos anteriormente, mas desta vez, restringiremos a região do genoma a uma região específica. Em particular, vamos restringir a nossa busca à região compreendida entre as bases 21560 e 25390. \n",
        "\n",
        "No formulário abaixo, defina esta região do genoma do vírus e coloque também (novamente) a entrada do genoma no banco de dados de nucleotídeos."
      ],
      "metadata": {
        "id": "_aYSsjjw2bNi"
      }
    },
    {
      "cell_type": "code",
      "source": [
        "nucleotide_id = \"\" #@param {type:\"string\"}\n",
        "seq_from =  #@param {type:\"integer\"}\n",
        "seq_to =  #@param {type:\"integer\"}\n",
        "\n",
        "\n",
        "Entrez.email = user_email\n",
        "handle = Entrez.efetch(db=\"nucleotide\", id=nucleotide_id, rettype=\"gb\", retmode=\"text\", seq_start=int(seq_from), seq_stop=int(seq_to))\n",
        "record = SeqIO.read(handle, \"genbank\")\n",
        "handle.close()"
      ],
      "metadata": {
        "id": "5qm5Z_SU2EQf"
      },
      "execution_count": 11,
      "outputs": []
    },
    {
      "cell_type": "markdown",
      "source": [
        "\n",
        "### Estendendo a Análise da Sequência ###\n",
        "\n",
        "No código anterior, além de fazer a busca na base de dados, criamos uma variável *record*, que recebeu os dados que foram consultados. \n",
        "\n",
        "```\n",
        "record = SeqIO.read(handle, \"genbank\")\n",
        "```\n",
        "Nesta variável podemos extrair características da consulta que fizemos.\n",
        "\n",
        "Por exemplo, vamos listar o *ID da sequência*, a *descrição* e as *características*:\n"
      ],
      "metadata": {
        "id": "SiwK0GCO4MOg"
      }
    },
    {
      "cell_type": "code",
      "source": [
        "print(\"Record Id: %s\" % record.id)\n",
        "print(\"Record name: %s\" % record.name)\n",
        "print(\"Record description: %s \" % record.description)\n",
        "print(\"Number of Features: %d\" % len(record.features))\n",
        "\n",
        "print(\"Record Features:\")\n",
        "\n",
        "for i in range(0,len(record.features)):\n",
        "  print(record.features[i])\n"
      ],
      "metadata": {
        "id": "H6jFQ8zw5Shp"
      },
      "execution_count": null,
      "outputs": []
    },
    {
      "cell_type": "markdown",
      "source": [
        "**Q3: Os resultados desta última consulta são consistentes com o que você esperaria? Por que?**"
      ],
      "metadata": {
        "id": "lecYQgq9jliw"
      }
    },
    {
      "cell_type": "markdown",
      "source": [
        "Além destas características, talvez a característica mais importante seja a **sequência** que buscamos. Obviamente, também queremos acessar esta informação através da variável *record* que criamos anteriormente."
      ],
      "metadata": {
        "id": "VybHqLGW6Boa"
      }
    },
    {
      "cell_type": "code",
      "source": [
        "my_seq = record.seq\n",
        "print(my_seq)\n",
        "\n",
        "my_seq_length = len(my_seq)\n",
        "gc_content = float(my_seq.count(\"G\") + my_seq.count(\"C\")) / len(my_seq)\n",
        "\n",
        "print(\"The received sequence %s has %d bp and a GC fraction of %f\" % (record.id, my_seq_length, gc_content))\n"
      ],
      "metadata": {
        "id": "PrPr7YqE6afI"
      },
      "execution_count": null,
      "outputs": []
    },
    {
      "cell_type": "markdown",
      "source": [
        "Vamos analisar o produto da tradução desta região do genoma do vírus SARS-Cov2 e ver o que podemos descobrir sobre este fragmento do genoma.\n",
        "\n",
        "Para isto, vamos usar a ferramenta de tradução do próprio BioPython."
      ],
      "metadata": {
        "id": "JsHUCKj48IBs"
      }
    },
    {
      "cell_type": "code",
      "source": [
        "my_seq_trad = my_seq.translate()\n",
        "\n",
        "print (my_seq_trad)"
      ],
      "metadata": {
        "id": "8p_lYSEQ8W7j"
      },
      "execution_count": null,
      "outputs": []
    },
    {
      "cell_type": "markdown",
      "source": [
        "\n",
        "Na terceira etapa desta prática vamos estender a nossa análise desta sequência realizando uma busca com a ferramenta BLAST."
      ],
      "metadata": {
        "id": "tdbmNGCC-HU6"
      }
    },
    {
      "cell_type": "markdown",
      "source": [
        "# Busca de Sequências com o BLAST #\n",
        "\n",
        "Nesta última etapa da prática usaremos a ferramenta BLAST para consultar a base de dados **REFSEQ** do NCBI por homólogos da proteína que acabamos de traduzir a partir do genoma do vírus SARS-Cov2.\n",
        "\n",
        "Nas linhas de código abaixo, usamos a consulta (online) com o BLAST a partir do BioPython. Para a consulta, precisamos dar 3 argumentos para o programa:\n",
        "\n",
        "1.   Qual a versão do programa vamos usar: **blastp** (proteínas), **blastx** (nucleotídeo vs proteína), **tblastn** (proteína vs nucleotídeos), **tblastx** (nucleotídeo vs nucleotídeo).\n",
        "2.   Qual a base de dados que consultaremos (*nr, refseq_rna, refseq_representative_genomes, refseq_protein, pdb, etc*).\n",
        "3. A sequência que buscaremos (sequência ou código de acesso NCBI).\n",
        "\n"
      ],
      "metadata": {
        "id": "2JjzvbDXZs-K"
      }
    },
    {
      "cell_type": "code",
      "source": [
        "\n",
        "result_handle = NCBIWWW.qblast(\"blastp\", \"refseq_protein\", my_seq_trad)\n"
      ],
      "metadata": {
        "id": "FWATAegwZrnS"
      },
      "execution_count": 18,
      "outputs": []
    },
    {
      "cell_type": "markdown",
      "source": [
        "Vamos escrever os resultados em um arquivo **my_blast.xml**. Em seguida usaremos uma ferramenta do Biopython para a leitura dos dados deste arquivo XML.\n"
      ],
      "metadata": {
        "id": "XdvojlKmdDHo"
      }
    },
    {
      "cell_type": "code",
      "source": [
        "with open(\"my_blast.xml\", \"w\") as out_handle:\n",
        "  out_handle.write(result_handle.read())\n",
        "result_handle.close()\n",
        "\n",
        "result_handle = open(\"my_blast.xml\")\n",
        "from Bio.Blast import NCBIXML\n",
        "blast_record = NCBIXML.read(result_handle)"
      ],
      "metadata": {
        "id": "4ucqJIeydCXF"
      },
      "execution_count": 19,
      "outputs": []
    },
    {
      "cell_type": "markdown",
      "source": [
        "Com este parser dos resultados em XML, mantemos os resultados na variável blast_record. Nela temos acesso às informações que obtivemos da nossa consulta na base de dados, com por exemplo:\n",
        "\n",
        "\n",
        "\n",
        "*   O título da sequência;\n",
        "*   O tamanho da sequência (número de aminoácidos, neste caso);\n",
        "* O valor de *e-value* (significância do alinhamento)\n",
        "* O próprio alinhamento entre a sequência de busca e a sequência obtida da base de dados.\n",
        "\n",
        "Para facilitar a visualização, aplicamos um critério de corte de e-value de $1 \\times 10^-10$. Isto é, somente serão mostrados as informações para as sequências que têm e-value menor que este parâmetro de corte. \n",
        "\n",
        "Lembrando, um e-value de $1 \\times 10^-2$ significa que a chance de eu obter este alinhamento ao acaso em uma base de dados do tamanho da base usada é de 1%.\n",
        "\n"
      ],
      "metadata": {
        "id": "pql-HyG3dZQ1"
      }
    },
    {
      "cell_type": "code",
      "source": [
        "E_VALUE_THRESH = 1E-10\n",
        "\n",
        "for alignment in blast_record.alignments:\n",
        "  for hsp in alignment.hsps:\n",
        "    if hsp.expect < E_VALUE_THRESH:\n",
        "      print()\n",
        "      print(\"****Alignment****\")\n",
        "      print(\"sequence:\", alignment.title)\n",
        "      print(\"length:\", alignment.length)\n",
        "      print(\"e value:\", hsp.expect)\n",
        "      print(hsp.query[0:75] + \"...\")\n",
        "      print(hsp.match[0:75] + \"...\")\n",
        "      print(hsp.sbjct[0:75] + \"...\")\n",
        "      print()"
      ],
      "metadata": {
        "id": "UfGe7iGndaUZ"
      },
      "execution_count": null,
      "outputs": []
    },
    {
      "cell_type": "markdown",
      "source": [
        "**Q4: O que podemos concluir sobre a sequência do fragmento do genoma que pesquisamos? A que proteína viral se refere? Ela é exclusiva de SARS-Cov2? Se não, em que outros organismos ela ocorre?**"
      ],
      "metadata": {
        "id": "lOFMHwSElAau"
      }
    }
  ]
}