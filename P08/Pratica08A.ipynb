{
  "nbformat": 4,
  "nbformat_minor": 0,
  "metadata": {
    "colab": {
      "name": "Pratica08A.ipynb",
      "provenance": []
    },
    "kernelspec": {
      "name": "python3",
      "display_name": "Python 3"
    },
    "language_info": {
      "name": "python"
    }
  },
  "cells": [
    {
      "cell_type": "markdown",
      "source": [
        "# Prática 8 - Mapeamento de Transcritos no Genoma #\n",
        "\n",
        "\n",
        "## Uso do programa *Splign* para mapeamento de transcritos ##\n",
        "\n",
        "Selecione a sequência NM_001135146.1 na base de nucleotídeos do NCBI.\n",
        "\n",
        "\n",
        "1.   Vá ao sitedoprograma [BLAST](https://blast.ncbi.nlm.nih.gov/Blast.cgi) no NCBI e selecione o programa *Nucleotide BLAST* (BLASTN). \n",
        "\n",
        "2.   Na opção *“database”* escolha a opção \"*RefSeq Representative Genomes*”;\n",
        "\n",
        "3.   No campo \"*organism*\" escreva \"*Homo sapiens*\";\n",
        "\n",
        "4.   Abra a porção denominada “*algortithm parameters*” e na opção “Filter” deselecione a opção “*low complexity regions*”. Os parâmetros ajustados nos passos 3, 4 e 5 permitirão que você faça uma busca bom o BLAST somente em versões depositadas do genoma humano e sem filtrar os trechos com baixa complexidade, permitindo assim um alinhamento completo do transcrito.\n",
        "5.   Aperte o botão BLAST.\n",
        "\n",
        "6.   Analise o alinhamento gerado. **Você consegue descrever quantos exons este gene possui? Em qual base do cromossomo o gene começa e em qual ele ter- mina? Anote estes números. (Q1)**\n",
        "\n",
        "7.   Selecione a seqüência genômica do alinhamento que você examinou clicando no hiperlink contendo o numero de acesso.\n",
        "\n",
        "8.   Na página de registro da sequência genômica (representando todo o cromossomo 4), adicione nos campos “*change region shown*” os valores que você anotou para o inicio e o fim do gene.\n",
        "\n",
        "9.\t No campo “*Display*” selecione a opção *FASTA*.\n",
        "\n",
        "10.  Na sua tela deverá aparecer a seqüência no formato FASTA representando a região do genoma contendo seu gene. Usaremos esta sequência na próxima etapa da análise."
      ],
      "metadata": {
        "id": "dtoNYGhaqULv"
      }
    },
    {
      "cell_type": "markdown",
      "source": [
        "### Mapeamento com Splign ###\n",
        "\n",
        "1.  Abra a pagina do [Splign](https://www.ncbi.nlm.nih.gov/sutils/splign/splign.cgi). Clique em \"*Online*\" na barra superior para utilizar a versão online do programa.\n",
        "\n",
        "2. No campo cDNA, digite os seguintes códigos de acesso:\n",
        "*  NM_022154\n",
        "*  NM_001135146\n",
        "*  NM_001135147\n",
        "*  NM_001135148\n",
        "\n",
        "3.  No campo \"*Genomic*\", copie e cole a sequênciaem formato FASTA do genoma, correspondente a região alinhada na primeira parte da atividade.\n",
        "\n",
        "4. Clique em \"*Align*\";\n",
        "\n",
        "5. Examine os alinhamentos produzidos. É possível ter uma melhor definição dos exons que um simples alinhamento no BLAST? No que diferem as diferentes formas de splicing? A sequência NM_001135147 é mapeada?\n",
        "\n",
        "6. Volte à tela inicial do Splign e adicione novamente as quatro sequências de cDNA. No campo \"Genomic\", deixe o campo em branco e na opção de \"*Whole genome*:\" a opção *Homo sapiens*.\n",
        "\n",
        "7. **Examine os alinhamentos produzidos. A sequência NM_001135147 é mapeada? O que pode ter acontecido? (Q2)**\n"
      ],
      "metadata": {
        "id": "NGxRFkN-yzXO"
      }
    }
  ]
}