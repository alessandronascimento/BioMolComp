{
  "nbformat": 4,
  "nbformat_minor": 0,
  "metadata": {
    "colab": {
      "name": "Pratica08B.ipynb",
      "provenance": [],
      "collapsed_sections": []
    },
    "kernelspec": {
      "name": "python3",
      "display_name": "Python 3"
    },
    "language_info": {
      "name": "python"
    }
  },
  "cells": [
    {
      "cell_type": "markdown",
      "source": [
        "[![Open In Colab](https://colab.research.google.com/assets/colab-badge.svg)](https://colab.research.google.com/github/alessandronascimento/BioMolComp/blob/main/P08/Pratica08B.ipynb)"
      ],
      "metadata": {
        "id": "wvHnQQoY3hRY"
      }
    },
    {
      "cell_type": "markdown",
      "source": [
        "# Pratica 08 - Parte II:  #\n",
        "\n",
        "## Representação Gráfica de Genomas com Biopython ##\n",
        "\n",
        "Uma parte importante da análise de genomas envolve a definição da existência de genes e sua representação dentro do genoma. A identificação de genes (particularmente em eucariotos) pode ser feita com ferramentas como o [GeneID](https://genome.crg.es/geneid.html), por exemplo que prevê a existência de uma ORF e de exons e íntrons.\n",
        "\n",
        "Já a representação dos genes identificados pode ser feita por ferramentas como o **Genome Diagram**, presente no Biopython. Nesta parte da prática faremos a análise de três genomas usando estas ferramentas. "
      ],
      "metadata": {
        "id": "mB00UOfL3ZEX"
      }
    },
    {
      "cell_type": "markdown",
      "source": [
        "## Objetivo: ##\n",
        "\n",
        "Representar graficamente os genomas do vírus *SARS-COV2*, e dos procariotos *Escherichia coli* e *Haemophilus influenzae*."
      ],
      "metadata": {
        "id": "G-h83cWUBy_w"
      }
    },
    {
      "cell_type": "markdown",
      "source": [
        "## Roteiro ##\n",
        "\n",
        "Faça a análise gráfica dos genomas destes organismos usando os códigos de acesso abaixo. Os códigos abaixo permitem fazer esta análise de forma simples.\n",
        "\n",
        "\n",
        "\n",
        "*   SARS-Cov2: NC_045512.2\n",
        "*   H*aemophilus influenzae*: CP007470.1\n",
        "*   *E. coli*: U00096.3\n",
        "\n"
      ],
      "metadata": {
        "id": "D0Ono9x3CCjG"
      }
    },
    {
      "cell_type": "code",
      "execution_count": null,
      "metadata": {
        "id": "3z46gG8B3DL0"
      },
      "outputs": [],
      "source": [
        "#@title Preparando o Ambiente para a Execução\n",
        "\n",
        "!pip3 install biopython\n",
        "!pip3 install reportlab\n",
        "!pip3 install Pillow\n",
        "\n",
        "from reportlab.lib import colors\n",
        "from reportlab.lib.units import cm\n",
        "from Bio.Graphics import GenomeDiagram\n",
        "from Bio import SeqIO\n",
        "from Bio.SeqFeature import SeqFeature, FeatureLocation\n",
        "\n",
        "from Bio.Seq import Seq\n",
        "from Bio import Entrez\n",
        "\n",
        "from IPython.display import Image\n",
        "\n",
        "from google.colab import auth\n",
        "auth.authenticate_user()\n",
        "\n",
        "import requests\n",
        "\n",
        "gcloud_token = !gcloud auth print-access-token\n",
        "gcloud_tokeninfo = requests.get('https://www.googleapis.com/oauth2/v3/tokeninfo?access_token=' + gcloud_token[0]).json()\n",
        "#print(gcloud_tokeninfo['email'])\n",
        "user_email = gcloud_tokeninfo['email']\n",
        "print(\"User email %s will be used to autenticate Entrez access.\" % user_email)\n"
      ]
    },
    {
      "cell_type": "code",
      "source": [
        "entry = \"\" #@param {type:\"string\"}"
      ],
      "metadata": {
        "id": "sx3ZtNJ6411m"
      },
      "execution_count": 68,
      "outputs": []
    },
    {
      "cell_type": "code",
      "source": [
        "Entrez.email = user_email\n",
        "handle = Entrez.efetch(db=\"nucleotide\", id=entry, rettype=\"gb\", retmode=\"text\")\n",
        "record = SeqIO.read(handle, \"genbank\")\n",
        "print(record)\n",
        "handle.close()\n",
        "\n",
        "gd_diagram = GenomeDiagram.Diagram(record.id)\n",
        "gd_track_for_features = gd_diagram.new_track(1, name=\"Annotated Features\")\n",
        "gd_feature_set = gd_track_for_features.new_set()\n",
        "\n",
        "for feature in record.features:\n",
        "    if feature.type != \"gene\":\n",
        "        # Exclude this feature\n",
        "        continue\n",
        "    if len(gd_feature_set) % 2 == 0:\n",
        "        color = colors.blue\n",
        "    else:\n",
        "        color = colors.lightblue\n",
        "    gd_feature_set.add_feature(\n",
        "        feature, sigil=\"ARROW\", color=color, label=True, label_size=6, label_angle=0\n",
        "    )\n",
        "\n",
        "# I want to include some strandless features, so for an example\n",
        "# will use EcoRI recognition sites etc.\n",
        "for site, name, color in [\n",
        "#    (\"GAATTC\", \"EcoRI\", colors.green),\n",
        "#    (\"CCCGGG\", \"SmaI\", colors.orange),\n",
        "#    (\"AAGCTT\", \"HindIII\", colors.red),\n",
        "#    (\"GGATCC\", \"BamHI\", colors.purple),\n",
        "]:\n",
        "    index = 0\n",
        "    while True:\n",
        "        index = record.seq.find(site, start=index)\n",
        "        if index == -1:\n",
        "            break\n",
        "        feature = SeqFeature(FeatureLocation(index, index + len(site)))\n",
        "        gd_feature_set.add_feature(\n",
        "            feature,\n",
        "            color=color,\n",
        "            name=name,\n",
        "            label=True,\n",
        "            label_size=10,\n",
        "            label_color=color,\n",
        "        )\n",
        "        index += len(site)\n",
        "\n",
        "gd_diagram.draw(format=\"linear\", pagesize=\"A4\", fragments=15, start=0, end=len(record))\n",
        "gd_diagram.write(\"genome_linear.png\", \"PNG\")\n",
        "\n",
        "\n",
        "gd_diagram.draw(\n",
        "    format=\"circular\",\n",
        "    circular=True,\n",
        "    pagesize=(20 * cm, 20 * cm),\n",
        "    start=0,\n",
        "    end=len(record),\n",
        "    circle_core=0.5,\n",
        ")\n",
        "gd_diagram.write(\"genome_circular.png\", \"PNG\")"
      ],
      "metadata": {
        "id": "e6XunxtE4wBG"
      },
      "execution_count": null,
      "outputs": []
    },
    {
      "cell_type": "code",
      "source": [
        "Image('genome_linear.png')"
      ],
      "metadata": {
        "id": "1XLql40w6w_G"
      },
      "execution_count": null,
      "outputs": []
    },
    {
      "cell_type": "code",
      "source": [
        "Image('genome_circular.png')"
      ],
      "metadata": {
        "id": "73Ynym5mANO3"
      },
      "execution_count": null,
      "outputs": []
    }
  ]
}