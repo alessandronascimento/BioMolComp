{
  "nbformat": 4,
  "nbformat_minor": 0,
  "metadata": {
    "colab": {
      "name": "Pratica07A.ipynb",
      "provenance": [],
      "collapsed_sections": []
    },
    "kernelspec": {
      "name": "python3",
      "display_name": "Python 3"
    },
    "language_info": {
      "name": "python"
    }
  },
  "cells": [
    {
      "cell_type": "markdown",
      "source": [
        "# Predição de Mudanças Pós-Traducionais #\n",
        "\n",
        "\n",
        "O objetivo desta atividade é realizar predição de glicosilação, verificação da presença de peptídeo sinal, detecção de trechos transmembrana e de adição de ancora GPI e depois realizar uma analise critica sobre as predições realizadas."
      ],
      "metadata": {
        "id": "1fHV4guDgpNL"
      }
    },
    {
      "cell_type": "markdown",
      "source": [
        "## Sequências ##\n",
        "\n",
        "Para a prática, usaremos as seguintes sequências proteicas disponíveis no NCBI:\n",
        "\n",
        "\n",
        "\n",
        "* AAG33673.1\n",
        "* AAV38730.1\n",
        "* AAG48944.1\n",
        "* BAG06711.1\n",
        "\n",
        "Utilizando estas sequências, vamos realizar predições de diferentes modificações e predição de características da proteína utilizando os programas abaixo listados."
      ],
      "metadata": {
        "id": "WHSvLTyig9uV"
      }
    },
    {
      "cell_type": "markdown",
      "source": [
        "## Predição da Presença de um Peptídeo - Sinal ##\n",
        "\n",
        "A predição da presença de um peptídeo sinal (SP) pode ser feita usando o servidor [SignalIP](https://services.healthtech.dtu.dk/service.php?SignalP), mantido pela Universidade Técnica da Dinamarca (DTU). Faça a análise neste servidor para as sequências listadas acima."
      ],
      "metadata": {
        "id": "5fLxmnm3hNun"
      }
    },
    {
      "cell_type": "markdown",
      "source": [
        "## Predição de Hélices Transmembrana ##\n",
        "\n",
        "O servidor [DeepTMHMM](https://dtu.biolib.com/DeepTMHMM) permite fazer uma predição da presença de hélices transmembrana. "
      ],
      "metadata": {
        "id": "8Co_u8MMjGYc"
      }
    },
    {
      "cell_type": "markdown",
      "source": [
        "## Predição de Sítios de Glicosilação ## \n",
        "\n",
        "Dois servidores podem ser usados para a predição de sítios de glicosilação:\n",
        "\n",
        "\n",
        "\n",
        "1.   O [NetNGlyc](https://services.healthtech.dtu.dk/service.php?NetNGlyc-1.0) analisa a presença de sítios de glicosilação com ligações a átomos de Nitrogênio da proteína.\n",
        "2.   Já o servidor [NetOGlyc](https://services.healthtech.dtu.dk/service.php?NetOGlyc-4.0) analisa glicosilações através de átomos de Oxigênio da proteína.\n",
        "\n"
      ],
      "metadata": {
        "id": "GmsdnPZFjRwD"
      }
    },
    {
      "cell_type": "markdown",
      "source": [
        "# Atividades #\n",
        "\n",
        "1. **Para cada sequência, anote todas as predições pesquisadas (presença ou não de Peptídeo sinal, hélices transmembrana, glicosilações).**\n",
        "\n",
        "2. **Após isso, busque na literatura informações que confirmem ou não as modificações preditas. Para isso você pode utilizar os links existentes na página da sequência no ENTREZ e também realizar uma busca por palavra chave no PubMed, além de buscar informações no banco UniProt. Discuta com seus colegas as informações obtidas e busque chegar a um consenso sobre as predições.**\n",
        "\n",
        "\n"
      ],
      "metadata": {
        "id": "hLM2dYnxj3EF"
      }
    }
  ]
}