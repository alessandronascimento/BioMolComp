{
  "nbformat": 4,
  "nbformat_minor": 0,
  "metadata": {
    "colab": {
      "provenance": [],
      "gpuType": "V100",
      "authorship_tag": "ABX9TyNjHcea/6v4YZzYV6wNad/p",
      "include_colab_link": true
    },
    "kernelspec": {
      "name": "python3",
      "display_name": "Python 3"
    },
    "language_info": {
      "name": "python"
    },
    "accelerator": "GPU"
  },
  "cells": [
    {
      "cell_type": "markdown",
      "metadata": {
        "id": "view-in-github",
        "colab_type": "text"
      },
      "source": [
        "<a href=\"https://colab.research.google.com/github/alessandronascimento/BioMolComp/blob/main/P10/SiRNA.ipynb\" target=\"_parent\"><img src=\"https://colab.research.google.com/assets/colab-badge.svg\" alt=\"Open In Colab\"/></a>"
      ]
    },
    {
      "cell_type": "markdown",
      "source": [
        "# RNA de Interferência\n",
        "\n",
        "Neste último Colab, vamos treinar um modelo para indicar se uma sequência de RNA é uma boa sequência para causar o **silenciamento** de um gene.\n",
        "\n",
        "O RNA de interferência foi descoberto nos anos 1990 e rendeu um prêmio Nobel em 2006. De forma muito resumida, um fragmento de RNA cuja sequência seja complementar a uma parte de um mRNA pode se ligar ao mRNA. O resultado é o *silenciamento* do mRNA, isto é, ele deixa de ser traduzido em uma proteína. O fragmento de RNA que silencia o gene é chamado de *short interfering RNA* ou siRNA. Este mecanismo permite \"*desligar*\" a transcrição de um gene e é muito empregado para a pesquisa sobre a importância do gene em determinado contexto.\n",
        "\n",
        "Uma vez que as sequências de RNA não são aleatórias, e que o RNA possui uma estrutura complexa, diferentes sequências de RNA apresentam eficiências diferentes cini siRNA e seria interessante ter uma ferramenta que selecionasse as melhores sequências para um siRNA.\n",
        "\n",
        "# Deep Learning\n",
        "\n",
        "Uma biblioteca de 2187 moléculas de siRNA foram testadas experimentalmente, cada uma possuindo 21 bases. Cada uma recebeu um *score* numérico (um valor entre 0 e 1) indicando o quão efetivo foi o silenciamento do gene alvo.\n",
        "\n",
        "Vamos gerar um modelo para, a partir destes dados, estimar a qualidade da sequência como uma sequência para siRNA."
      ],
      "metadata": {
        "id": "DwRE4WEcQF4P"
      }
    },
    {
      "cell_type": "markdown",
      "source": [
        "## Bibliotecas necessárias"
      ],
      "metadata": {
        "id": "ll-Yu283R5I-"
      }
    },
    {
      "cell_type": "code",
      "execution_count": null,
      "metadata": {
        "id": "aaa9xr1dQBi5"
      },
      "outputs": [],
      "source": [
        "# Instalando e importando as bibliotecas necessárias\n",
        "\n",
        "!pip3 install deepchem\n",
        "!apt-get install subversion\n",
        "import deepchem as dc\n",
        "import tensorflow as tf\n",
        "import tensorflow.keras.layers as layers\n",
        "import matplotlib.pyplot as plot\n",
        "\n",
        "!nvidia-smi"
      ]
    },
    {
      "cell_type": "markdown",
      "source": [
        "## Baixando os dados e carregando no ambiente"
      ],
      "metadata": {
        "id": "bvCnShtWSVQi"
      }
    },
    {
      "cell_type": "code",
      "source": [
        "# Get the data and load into deepchem\n",
        "\n",
        "!svn export https://github.com/deepchem/DeepLearningLifeSciences/trunk/Chapter06/train_siRNA\n",
        "!svn export https://github.com/deepchem/DeepLearningLifeSciences/trunk/Chapter06/valid_siRNA\n",
        "\n",
        "# Load the data.\n",
        "\n",
        "train = dc.data.DiskDataset('train_siRNA')\n",
        "valid = dc.data.DiskDataset('valid_siRNA')"
      ],
      "metadata": {
        "id": "6EjWtS54SVsP"
      },
      "execution_count": null,
      "outputs": []
    },
    {
      "cell_type": "markdown",
      "source": [
        "## Inspecionando as características dos dados"
      ],
      "metadata": {
        "id": "INGC8i1AUNut"
      }
    },
    {
      "cell_type": "code",
      "source": [
        "train"
      ],
      "metadata": {
        "id": "1UCIzso7S6Bn"
      },
      "execution_count": null,
      "outputs": []
    },
    {
      "cell_type": "markdown",
      "source": [
        "## Construção do Modelo\n",
        "\n",
        "Aqui vamos usar mais uma vez uma rede convolutiva CNN. Novamente a rede será uma rede 1D, com duas camadas, seguida por uma rede densa totalmente conectada.\n",
        "\n",
        "Uma diferença importante aqui é que nosso modelo é uma modelo de **regressão**. Isto é, estamos tentando prever a probabilidade (0-1) de que a sequência seja uma sequência capaz de silenciar o gene alvo, de acordo com o dado experimental.\n",
        "\n",
        "Por isso, a função de perda agora é uma função de distância $L_2$, que minimiza a diferença média quadrada entre os valores preditos e os valores reais."
      ],
      "metadata": {
        "id": "yIBTV35XUSSx"
      }
    },
    {
      "cell_type": "code",
      "source": [
        "# Build the model.\n",
        "\n",
        "features = tf.keras.Input(shape=(21, 4))\n",
        "prev = features\n",
        "for i in range(2):\n",
        "    prev = layers.Conv1D(filters=10, kernel_size=10, activation=tf.nn.relu, padding='same')(prev)\n",
        "    prev = layers.Dropout(rate=0.3)(prev)\n",
        "output = layers.Dense(units=1, activation=tf.math.sigmoid)(layers.Flatten()(prev))\n",
        "keras_model = tf.keras.Model(inputs=features, outputs=output)\n",
        "model = dc.models.KerasModel(\n",
        "    keras_model,\n",
        "    loss=dc.models.losses.L2Loss(),\n",
        "    batch_size=1000,\n",
        "    model_dir='rnai')"
      ],
      "metadata": {
        "id": "j-srYmN4SN8E"
      },
      "execution_count": 4,
      "outputs": []
    },
    {
      "cell_type": "markdown",
      "source": [
        "## Métrica\n",
        "\n",
        "Uma vez que nossa predição agora trata-se de uma regressão, podemos usar como métrica a correlação (de Pearson) entre os valores reais e os valores preditos. A correlação nos dará um número entre -1 (anti-correlação) e 1 (correlação perfeita), onde 0 indica a ausência de qualquer correlação."
      ],
      "metadata": {
        "id": "hevAr0lUVBjZ"
      }
    },
    {
      "cell_type": "code",
      "source": [
        "# Train the model, tracking its performance on the training and validation datasets.\n",
        "\n",
        "metric = dc.metrics.Metric(dc.metrics.pearsonr, mode='regression')\n",
        "\n",
        "xs=[]\n",
        "ytrain=[]\n",
        "yvalid=[]\n",
        "\n",
        "for i in range(20):\n",
        "    model.fit(train, nb_epoch=10)\n",
        "    print(\"Iteration %d:\" % (i+1))\n",
        "    m = model.evaluate(train, [metric])\n",
        "    auc = m['pearsonr']\n",
        "    print(\"ROC AUC [train]: %7.3f\" % auc)\n",
        "    ytrain.append(auc)\n",
        "    m = model.evaluate(valid, [metric])\n",
        "    auc = m['pearsonr']\n",
        "    print(\"ROC AUC [valid]: %7.3f\" % auc)\n",
        "    yvalid.append(auc)\n",
        "    xs.append(i+1)\n",
        "    print()"
      ],
      "metadata": {
        "id": "YlW12nahTNAN"
      },
      "execution_count": null,
      "outputs": []
    },
    {
      "cell_type": "markdown",
      "source": [
        "## Análise gráfica\n",
        "\n",
        "Como no exemplo anterior, também vamos olhar graficamente para a evolução do treinamento do nosso modelo usando o pyplot."
      ],
      "metadata": {
        "id": "ea-9o0hZVUEy"
      }
    },
    {
      "cell_type": "code",
      "source": [
        "# Representação Gráfica da Evolução do Treinamento\n",
        "\n",
        "#plot.style.use('seaborn-whitegrid')\n",
        "plot.ylabel('Pearson r')\n",
        "plot.xlabel('Iteration')\n",
        "plot.plot(xs, ytrain, '-ok', label='train')\n",
        "plot.plot(xs, yvalid, '-or', label='valid')\n",
        "plot.legend(loc='lower right')"
      ],
      "metadata": {
        "id": "qYJs5TMMTi9b"
      },
      "execution_count": null,
      "outputs": []
    }
  ]
}