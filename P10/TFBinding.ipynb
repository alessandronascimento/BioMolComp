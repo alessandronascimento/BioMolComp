{
  "nbformat": 4,
  "nbformat_minor": 0,
  "metadata": {
    "colab": {
      "provenance": [],
      "gpuType": "A100",
      "authorship_tag": "ABX9TyOXLEhc/yeNzNJy3RoKbzNE",
      "include_colab_link": true
    },
    "kernelspec": {
      "name": "python3",
      "display_name": "Python 3"
    },
    "language_info": {
      "name": "python"
    },
    "accelerator": "GPU"
  },
  "cells": [
    {
      "cell_type": "markdown",
      "metadata": {
        "id": "view-in-github",
        "colab_type": "text"
      },
      "source": [
        "<a href=\"https://colab.research.google.com/github/alessandronascimento/BioMolComp/blob/main/P10/TFBinding.ipynb\" target=\"_parent\"><img src=\"https://colab.research.google.com/assets/colab-badge.svg\" alt=\"Open In Colab\"/></a>"
      ]
    },
    {
      "cell_type": "markdown",
      "source": [
        "# Sítio de Interação de Fator de Transcrição\n",
        "\n",
        "\n",
        "Fatores de transcrição são tipicamente proteínas que reconhecem sequências específicas, e de tamanho específico, do DNA e regulam a transcrição de genes nas adjacências do sítio de interação.\n",
        "\n",
        "Os sítio de interação tipicamente contem ~10 bp com uma assinatura de sequência mais ou menos conhecida (e.g.: AGGTCA).\n",
        "\n",
        "## Fator de Transcrição JUND\n",
        "\n",
        "As sequências de DNA que são reconhecidas pelo fator de transcrição JUND foram mapeadas exaustivamente no genoma humano. Neste experimento, vamos usar apenas os dados do cromossomo 22 (um dos menores), e que conta com 50 milhões de bases. Neste experimento, elas foram divididas em segmentos de 101 pares de bases e foram rotuladas para indicar a ligação ou não do JUND a este segmento.\n",
        "\n",
        "Novamente, vamos usar o *one-hot encoded* para representar as sequências: vetores de quatro elementos contendo um 1 e três 0, para representar A,G,C ou T.\n",
        "\n",
        "Novamente vamos usar uma rede CNN, mas desta vez uma rede 1D, já que o dado é também 1D."
      ],
      "metadata": {
        "id": "SC6Afim5mnJt"
      }
    },
    {
      "cell_type": "markdown",
      "source": [
        "## Inicialmente, vamos instalar as bibliotecas necessárias:"
      ],
      "metadata": {
        "id": "8rF0p8_xolO5"
      }
    },
    {
      "cell_type": "code",
      "execution_count": null,
      "metadata": {
        "id": "MB52V1eCjPjh"
      },
      "outputs": [],
      "source": [
        "# Train a model to predict binding sites for the transcription factor JUND.\n",
        "!pip3 install deepchem\n",
        "!apt-get install subversion\n",
        "import deepchem as dc\n",
        "import tensorflow as tf\n",
        "import tensorflow.keras.layers as layers\n",
        "%matplotlib inline\n",
        "import matplotlib.pyplot as plt\n",
        "!nvidia-smi"
      ]
    },
    {
      "cell_type": "markdown",
      "source": [
        "## Carregando os dados\n",
        "\n",
        "Os dados que usaremos serão obtidos do GitHub com os comandos da célula abaixo."
      ],
      "metadata": {
        "id": "73xKpTbtorUF"
      }
    },
    {
      "cell_type": "code",
      "source": [
        "# Get the data and load into deepchem\n",
        "\n",
        "!svn export https://github.com/deepchem/DeepLearningLifeSciences/trunk/Chapter06/train_dataset\n",
        "!svn export https://github.com/deepchem/DeepLearningLifeSciences/trunk/Chapter06/valid_dataset\n",
        "\n",
        "# Load the data.\n",
        "\n",
        "train = dc.data.DiskDataset('train_dataset')\n",
        "valid = dc.data.DiskDataset('valid_dataset')"
      ],
      "metadata": {
        "colab": {
          "base_uri": "https://localhost:8080/"
        },
        "id": "3iACX8WMmTuM",
        "outputId": "e193f7a7-0f97-405a-8836-5521fbb6e4b9"
      },
      "execution_count": 3,
      "outputs": [
        {
          "output_type": "stream",
          "name": "stdout",
          "text": [
            "svn: E155000: Destination directory exists; please remove the directory or use --force to overwrite\n",
            "svn: E155000: 'train_dataset' already exists\n",
            "A    valid_dataset\n",
            "A    valid_dataset/metadata.csv.gzip\n",
            "A    valid_dataset/shard-0-X.joblib\n",
            "A    valid_dataset/shard-0-ids.joblib\n",
            "A    valid_dataset/shard-0-w.joblib\n",
            "A    valid_dataset/shard-0-y.joblib\n",
            "A    valid_dataset/tasks.json\n",
            "Exported revision 55.\n"
          ]
        }
      ]
    },
    {
      "cell_type": "markdown",
      "source": [
        "## Construção do Modelo\n",
        "\n",
        "Na célula abaixo, construiremos o nosso modelo. A lógica é muito similar àquela usada no conjunto de dados MNIST. Aqui o modelo de convolução unidimensional (*Conv1D*) é empregado recebendo como input vetores de características de 101x4 elementos. Três camadas convolutivas são construídas com parâmetros idênticos. A largura do *kernel* convolutivo é de 10 e cada camada inclui 15 filtros (outputs).\n",
        "\n",
        "O *dropout* é de 0.5, indicando que após cada camada, 50% dos valores de output são randomicamente setados para 0. Isto ajuda a prevenir o overfitting.\n",
        "\n",
        "A camada densa de saída passa por uma função sigmoidal para que o resultado seja de valores entre 0 e 1, indicando a probabilidade de cada sequência conter um sítio de interação."
      ],
      "metadata": {
        "id": "q9GtbhRyozFw"
      }
    },
    {
      "cell_type": "code",
      "source": [
        "# Arquitetura do modelo\n",
        "\n",
        "features = tf.keras.Input(shape=(101, 4))\n",
        "prev = features\n",
        "for i in range(3):\n",
        "    prev = layers.Conv1D(filters=15, kernel_size=10, activation=tf.nn.relu, padding='same')(prev)\n",
        "    prev = layers.Dropout(rate=0.5)(prev)\n",
        "logits = layers.Dense(units=1)(layers.Flatten()(prev))\n",
        "output = layers.Activation(tf.math.sigmoid)(logits)\n",
        "keras_model = tf.keras.Model(inputs=features, outputs=[output, logits])\n",
        "model = dc.models.KerasModel(\n",
        "    keras_model,\n",
        "    loss=dc.models.losses.SigmoidCrossEntropy(),\n",
        "    output_types=['prediction', 'loss'],\n",
        "    batch_size=1000,\n",
        "    model_dir='tf')"
      ],
      "metadata": {
        "id": "8_7J8ZMWjY4N"
      },
      "execution_count": 4,
      "outputs": []
    },
    {
      "cell_type": "markdown",
      "source": [
        "## Treinamento e Métrica\n",
        "\n",
        "Novamente a métrica será a ROC AUC. A cda 10 épocas, o modelo é avaliado nos conjuntos de treinamento e teste."
      ],
      "metadata": {
        "id": "YNfAS_qECrQF"
      }
    },
    {
      "cell_type": "code",
      "source": [
        "# Treinamento do modelo e avaliação\n",
        "\n",
        "metric = dc.metrics.Metric(dc.metrics.roc_auc_score)\n",
        "\n",
        "xs=[]\n",
        "ytrain=[]\n",
        "yvalid=[]\n",
        "\n",
        "for i in range(20):\n",
        "    model.fit(train, nb_epoch=10)\n",
        "    print(\"Iteration %d:\" % (i+1))\n",
        "    m = model.evaluate(train, [metric])\n",
        "    auc = m['roc_auc_score']\n",
        "    print(\"ROC AUC [train]: %7.3f\" % auc)\n",
        "    ytrain.append(auc)\n",
        "    m = model.evaluate(valid, [metric])\n",
        "    auc = m['roc_auc_score']\n",
        "    print(\"ROC AUC [valid]: %7.3f\" % auc)\n",
        "    yvalid.append(auc)\n",
        "    xs.append(i+1)\n",
        "    print()"
      ],
      "metadata": {
        "id": "6xkeQ-vMmh_8"
      },
      "execution_count": null,
      "outputs": []
    },
    {
      "cell_type": "markdown",
      "source": [
        "## Gráfico: Evolução do Treinamento da Rede"
      ],
      "metadata": {
        "id": "6FZb8DHPPomF"
      }
    },
    {
      "cell_type": "code",
      "source": [
        "# Representação Gráfica da Evolução do Treinamento\n",
        "\n",
        "plt.style.use('seaborn-whitegrid')\n",
        "plt.ylabel('ROC AUC')\n",
        "plt.xlabel('Iteration')\n",
        "plt.plot(xs, ytrain, '-ok', label='train')\n",
        "plt.plot(xs, yvalid, '-or', label='valid')"
      ],
      "metadata": {
        "id": "IVedM0KgFWXA"
      },
      "execution_count": null,
      "outputs": []
    }
  ]
}