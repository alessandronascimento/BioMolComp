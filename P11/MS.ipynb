{
  "nbformat": 4,
  "nbformat_minor": 0,
  "metadata": {
    "colab": {
      "provenance": [],
      "authorship_tag": "ABX9TyMp6B7u/Ct6lrul4lR6zSML",
      "include_colab_link": true
    },
    "kernelspec": {
      "name": "python3",
      "display_name": "Python 3"
    },
    "language_info": {
      "name": "python"
    }
  },
  "cells": [
    {
      "cell_type": "markdown",
      "metadata": {
        "id": "view-in-github",
        "colab_type": "text"
      },
      "source": [
        "<a href=\"https://colab.research.google.com/github/alessandronascimento/BioMolComp/blob/main/P11/MS.ipynb\" target=\"_parent\"><img src=\"https://colab.research.google.com/assets/colab-badge.svg\" alt=\"Open In Colab\"/></a>"
      ]
    },
    {
      "cell_type": "markdown",
      "source": [
        "# Identificação de Proteínas Através da Análise de Espectros de Massa \n",
        "\n",
        "Esta atividade tem como objetivo familiarizar o aluno com softwares de identificação de proteínas através de espectrometria de massa. Neste exercício, iremos utilizar o *MASCOT* para trabalhar com duas metodologias diferentes: Na de *peptide mass fingerprint*, a proteína é identificada a partir de um conjunto de massas representando diferentes peptídeos resultantes da tripsinização da proteína. Na analise de MS/MS, cada peptídeo é fragmentado e os valores de massa dos fragmentos resultantes ajudam na identificação deste peptídeo.\n",
        "\n",
        "Para simular resultados reais, iremos utilizar programas que a partir de sequências protéicas são capazes de calcular as massas esperadas para os pep- tídeos formados, bem como programas mais especializados que são capazes de calcular os valores esperados para um espectro de fragmentação. \n",
        "\n",
        "Lembre-se que os valores que iremos obter são exatos e que uma amostra real apresentará muito mais ruído. Estes valores representariam nossos dados que serão utilizados no MASCOT para a identificação das proteínas."
      ],
      "metadata": {
        "id": "iZQXZxzJPVk6"
      }
    },
    {
      "cell_type": "markdown",
      "source": [
        "##  Identificação de proteínas por peptide mass fingerprint\n",
        "\n",
        "1. Busque a sequência proteica *3EXD_A* no banco do [NCBI](https://www.ncbi.nlm.nih.gov/);\n",
        "\n",
        "2. Vá ao site do programa [PeptideMass](https://web.expasy.org/peptide_mass/). Este programa simula o corte da sua proteína por uma protease de sua escolha e calcula as massas dos peptédeos gerados.\n",
        "\n",
        "3. Cole sua sequência em formato FASTA no espaço reservado.\n",
        "\n",
        "4. No item *the peptide masses are with cysteines treated with:* selecione **iodoacetamide**. Isso irá simular o tratamento das cisteínas reduzidas com um agente modificador que prevenirá a formação de pontes dissulfeto entre os peptídeos.\n",
        "\n",
        "5. Mantenha os parâmetros [M+H]+ e *monoisotopic*. Isso significa que será calculada a massa do peptídeo mais um próton e que a massa considerada é do pico monoisotópico.\n",
        "\n",
        "6. Mantenha a enzima a ser utilizada com **tripsina** e aperte o botão *perform the cleavage*;\n",
        "\n",
        "7. O resultado será uma tabela com todos os peptídeos e suas respectivas massas. Peptídeos com massa abaixo de 500 daltons não são listados, pois normalmente esta é uma faixa mais problemática para análise, pois está sujeita a um maior ruído devido à presença de contaminantes não protéicos.\n",
        "\n",
        "### Busca no MASCOT\n",
        "\n",
        "8. Abra o site do [MASCOT](http://www.matrixscience.com/cgi/search_form.pl?FORMVER=2&SEARCH=PMF) ;\n",
        "\n",
        "9. Coloque seu nome e um e-mail välido nos campos indicados e selecione a *database: SwissProt*;\n",
        "\n",
        "9. No campo *fixed modifications*, escolha *carbamidomethyl (C)* e aperte o botão \"<\". Com isso você esta indicando ao programa que você espera que todas as cisteínas tenham sido modificadas com a reação com a iodoacetamida. O campo ao lado, \"variable modifications\", indica modificações que podem ou não ter ocorrido em sua amostra (como pro exemplo oxidação de metioninas), no caso deste exercício, não iremos marcar nenhuma modificação deste tipo.\n",
        "\n",
        "10. Mantenha os parâmetros [M+H]+ e monoisotopic, para serem concordantes com aqueles utilizados para na geração da lista de peptídeos.\n",
        "\n",
        "11. Escolha de modo randômico o valor de massa molecular de 8 peptídeos gerados para sua proteína e copie-os no campo *query*.\n",
        "\n",
        "12. Aperte o botão *Start search*;\n",
        "\n",
        "13. Na tela de resultados vá ao campo do lado do botão *format as* e selecione *protein summary*. Após isso aperte o botão \"*Format as*\".\n",
        "\n",
        "14. Examine os resultados apresentados. Os resultados de identificação obtidos são significativos?\n",
        "\n",
        "15. Reduza o número de peptídeos cujos valores de massa foram adicionados ao MASCOT e descubra qual o número mínimo de peptídeos necessários para uma identificação significativa de sua proteína\n",
        "\n",
        "16. **A este número mínimo de peptídeos, adicione o valores de massas de dois peptídeos de uma outra proteína não relacionada com a primeira (simulando assim um contaminação de sua amostra com outra proteína) e refaça a predição no mascot. Foi possível realizar uma identificação efetiva de alguma das proteínas? (Q1)**"
      ],
      "metadata": {
        "id": "_IqXWF7NPvtm"
      }
    }
  ]
}