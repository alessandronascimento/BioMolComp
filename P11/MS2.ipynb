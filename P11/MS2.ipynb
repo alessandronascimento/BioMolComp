{
  "nbformat": 4,
  "nbformat_minor": 0,
  "metadata": {
    "colab": {
      "provenance": [],
      "authorship_tag": "ABX9TyMYlR/xn8CCzecEy73bhbya",
      "include_colab_link": true
    },
    "kernelspec": {
      "name": "python3",
      "display_name": "Python 3"
    },
    "language_info": {
      "name": "python"
    }
  },
  "cells": [
    {
      "cell_type": "markdown",
      "metadata": {
        "id": "view-in-github",
        "colab_type": "text"
      },
      "source": [
        "<a href=\"https://colab.research.google.com/github/alessandronascimento/BioMolComp/blob/main/P11/MS2.ipynb\" target=\"_parent\"><img src=\"https://colab.research.google.com/assets/colab-badge.svg\" alt=\"Open In Colab\"/></a>"
      ]
    },
    {
      "cell_type": "markdown",
      "source": [
        "## Identificação de proteínas por MS/MS\n",
        "\n",
        "1. Selecione um peptídeo da proteína utilizada na sequência anterior \n",
        "\n",
        "2. Vá a pagina do programa [prospector](https://prospector.ucsf.edu/prospector/cgi-bin/msform.cgi?form=msproduct).\n",
        "\n",
        "3. Introduza a sua sequência de aminoácidos no espaço entre os termos *N term* e *C term*. Caso sua sequência possuir uma cisteina, substitua a letra C por C(Carbamidomethyl).\n",
        "\n",
        "4. Selecione apenas as series de íons b e y.\n",
        "\n",
        "5. Aperte o botão *induce fragmentation*;\n",
        "\n",
        "6. O resultado gerado informa as massas de todos os íons formados. Abra um editor de planilhas e crie um arquivo seguindo os passos (modelo visual abaixo):\n",
        "\n",
        "* Na primeira linha do arquivo, escreva *BEGIN IONS*.\n",
        "* Na segunda linha, escreva TITLE=*Nome do query que você quiser*\n",
        "* Na terceira linha, escreva PEPMASS=XXXXX, onde X é o valor de massa do peptídeo não fragmentado.\n",
        "* Nas linhas abaixo, cole os valores fornecidos na tabela gerada pelo programa *Prospector*, em uma única coluna.\n",
        "* Após os dados, escreva *END IONS* na última linha do primeiro query. Para colocar um segundo query, repita os mesmo procedimentos (a partir da linha BEGIN IONS...) na linha logo abaixo à que você escreveu END IONS, e termine também com a linha END IONS.\n",
        "\n",
        "7. Salve este arquivo no formato .txt. Para isso, você precisará, em \"salvar como\", selecionar o tipo de arquivo como texto (MS-DOS), que é o formato txt.\n",
        "\n",
        "8. Abra o site do mascot e selecione a opção MS/MS Ion; Search:\n",
        "\n",
        "9. No campo \u0010\u001cxed modi\u001ccation\u0011 escolha carbamidomethyl (C). Com isso você esta indicando ao programa que você espera que todas as cisteinas tenham sido modi\u001ccadas com a reação com a iodoacetamida\n",
        "\n",
        "10. Selecione peptide charge 1+;\n",
        "\n",
        "11. No espaço \u0010data \u001cle\u0011 selecione o arquivo TXT que você gerou;\n",
        "\n",
        "12. Selecione a \u0010database\u0011: SwissProt\n",
        "\n",
        "13. Aperte o botão start search;\n",
        "\n",
        "14. Analise os resultados obtidos. Você foi capaz de identi\u001ccar a proteína? (Q2)\n",
        "15. Volte a seu arquivo txt e escolha randomicamente metade dos valores de massas resultante da fragmentação e retire-os do ar- quivo. Retire as linhas em branco. Salve o arquivo e refaça as analises. Você foi capaz de identi\u001ccar as proteínas ainda assim? (Q3)"
      ],
      "metadata": {
        "id": "ubj_JqTqUJOW"
      }
    }
  ]
}