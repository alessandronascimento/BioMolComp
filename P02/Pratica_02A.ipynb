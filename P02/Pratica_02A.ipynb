{
  "nbformat": 4,
  "nbformat_minor": 0,
  "metadata": {
    "colab": {
      "name": "Pratica_02A.ipynb",
      "provenance": []
    },
    "kernelspec": {
      "name": "python3",
      "display_name": "Python 3"
    },
    "language_info": {
      "name": "python"
    }
  },
  "cells": [
    {
      "cell_type": "markdown",
      "source": [
        "[![Open In Colab](https://colab.research.google.com/assets/colab-badge.svg)](https://colab.research.google.com/github/alessandronascimento/BioMolComp/blob/main/P02/Pratica_02A.ipynb)\n",
        "\n",
        "# Inspeção de Matrizes de Substituição com o BioPython\n",
        "\n",
        "Nesta parte da prática, vamos inspecionar algumas matrizes de substituição que já estão presentes no Biopython como parte da Biblioteca.\n",
        "\n",
        "As matrizes de substituição são muito importantes para a obtenção de um ali-\n",
        "nhamento. Há várias matrizes de substituição disponíveis. Dentre estas, as\n",
        "mais usadas são as matrizes BLOSUM62 e as matrizes PAM, como a PAM250, por\n",
        "exemplo. O Biopython tem as matrizes embutidas. Estas matrizes podem ser\n",
        "facilmente visualizadas a partir da biblioteca."
      ],
      "metadata": {
        "id": "IxqYlOQDu3gw"
      }
    },
    {
      "cell_type": "markdown",
      "source": [
        "## Instalando o BioPython"
      ],
      "metadata": {
        "id": "8Bneizumr4TP"
      }
    },
    {
      "cell_type": "code",
      "execution_count": null,
      "metadata": {
        "id": "ymP8Ku8CseMf"
      },
      "outputs": [],
      "source": [
        "\n",
        "\n",
        "!pip3 install biopython\n",
        "import sys, os\n",
        "from Bio.Align import substitution_matrices\n"
      ]
    },
    {
      "cell_type": "markdown",
      "source": [
        "### Listando as matrizes de substituição existentes no BioPython"
      ],
      "metadata": {
        "id": "rdHCyMv6u2fp"
      }
    },
    {
      "cell_type": "code",
      "source": [
        "substitution_matrices.load()"
      ],
      "metadata": {
        "id": "d3sVVRavuxs0"
      },
      "execution_count": null,
      "outputs": []
    },
    {
      "cell_type": "markdown",
      "source": [
        "Vamos analisar algumas destas matrizes de substituição. Começando pela PAM250 (*Point Accepted Mutatio*n) e, em seguida, passando para a BLOSUM62 (*Blocks Substitution Matrix*)."
      ],
      "metadata": {
        "id": "oWEMkIlMvOo4"
      }
    },
    {
      "cell_type": "code",
      "source": [
        "matrix = substitution_matrices.load(\"PAM250\")\n",
        "print(matrix)"
      ],
      "metadata": {
        "id": "qVmH_ajHvbMx"
      },
      "execution_count": null,
      "outputs": []
    },
    {
      "cell_type": "code",
      "source": [
        "matrix = substitution_matrices.load(\"BLOSUM62\")\n",
        "print(matrix)"
      ],
      "metadata": {
        "id": "WxsamGHqvs9B"
      },
      "execution_count": null,
      "outputs": []
    },
    {
      "cell_type": "markdown",
      "source": [
        "E se eu quiser um alinhamento de ácidos nucleicos ao invés de proteínas?"
      ],
      "metadata": {
        "id": "Y8i_ofjCwTf2"
      }
    },
    {
      "cell_type": "code",
      "source": [
        "matrix = substitution_matrices.load(\"NUC.4.4\")\n",
        "print(matrix)"
      ],
      "metadata": {
        "id": "ogvJTOCewXyS"
      },
      "execution_count": null,
      "outputs": []
    },
    {
      "cell_type": "markdown",
      "source": [
        "Também existem matrizes de substiuição para códons, ao invés de bases:"
      ],
      "metadata": {
        "id": "VvpHONbhxZSo"
      }
    },
    {
      "cell_type": "code",
      "source": [
        "matrix = substitution_matrices.load(\"SCHNEIDER\")\n",
        "print(matrix)"
      ],
      "metadata": {
        "id": "h9zSfpLjxfsi"
      },
      "execution_count": null,
      "outputs": []
    }
  ]
}