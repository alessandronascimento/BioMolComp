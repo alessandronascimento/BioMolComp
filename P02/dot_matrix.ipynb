{
  "nbformat": 4,
  "nbformat_minor": 0,
  "metadata": {
    "colab": {
      "name": "dot_matrix.ipynb",
      "provenance": []
    },
    "kernelspec": {
      "name": "python3",
      "display_name": "Python 3"
    },
    "language_info": {
      "name": "python"
    }
  },
  "cells": [
    {
      "cell_type": "markdown",
      "source": [
        "[![Open In Colab](https://colab.research.google.com/assets/colab-badge.svg)](https://colab.research.google.com/github/alessandronascimento/BioMolComp/blob/main/P02/dot_matrix.ipynb)\n",
        "\n",
        "# Introdução\n",
        "\n",
        "Um par de sequências pode ser alinhado utilizando métodos de alinhamento\n",
        "globais ou locais. Dentre os principais métodos para o alinhamento de sequências estão o método de programação dinâmica (PD), que pode ser usado para\n",
        "obter alinhamentos locais ou globais, e o método de *k*-tuplas, que veremos em\n",
        "aulas seguintes. Além destes métodos, o método da matrix de pontos pode\n",
        "ser muito útil para a identificação de padrões de similaridade em sequências\n",
        "protéicas.\n",
        "\n",
        "Os métodos de PD e k-tuplas dependem de uma matriz de substituição. Numa\n",
        "matriz de substituição, os aminoácidos são listados no topo da matriz e verticalmente e cada elemento da matriz é um escore que reflete a razão entre uma dada substituição de aminoácidos e a frequência esperada ao acaso. Esta razão é convertida para logaritmos na base 2 (bits) e multiplicada por dois.\n",
        "\n",
        "\n",
        "# Matriz de Pontos\n",
        "\n",
        "Nesta prática, vamos criar um código para analisar um par de sequências usando o métodos da matriz de pontos. Usaremos o python para construir nossa própria matriz.\n",
        "\n",
        "A matriz que faremos nesta prática é bem simples. Não usaremos um dicionário para checar se a sequência contém caracteres não permitidos. Apenas faremos uma comparação caractere-a-caractere e veremos o resultados final."
      ],
      "metadata": {
        "id": "3-qLaDtPjHqM"
      }
    },
    {
      "cell_type": "markdown",
      "source": [
        "### Importando as bibliotecas necessárias"
      ],
      "metadata": {
        "id": "LDFTyNn0jhvq"
      }
    },
    {
      "cell_type": "code",
      "execution_count": 1,
      "metadata": {
        "id": "eMfYAWaw_C9e"
      },
      "outputs": [],
      "source": [
        "import matplotlib.pyplot as plt\n",
        "import sys\n"
      ]
    },
    {
      "cell_type": "markdown",
      "source": [
        "### Definindo as sequências que serão usadas e removendo espaços nas sequências."
      ],
      "metadata": {
        "id": "D3alQGW0jmyF"
      }
    },
    {
      "cell_type": "code",
      "source": [
        "seq1 = \"\" #@param {type:\"string\"}\n",
        "seq2 = \"\" #@param {type:\"string\"}\n",
        "\n",
        "#\n",
        "# Removendo espacos nas sequencias\n",
        "#\n",
        "\n",
        "seq1 = seq1.replace(' ', '')\n",
        "seq2 = seq2.replace(' ', '')\n",
        "\n",
        "print(\"Sequence 1 has %d residues\" % len(seq1))\n",
        "print(\"Sequence 2 has %d residues\" % len(seq2))\n",
        "\n"
      ],
      "metadata": {
        "id": "CXliU9-N_T1o"
      },
      "execution_count": null,
      "outputs": []
    },
    {
      "cell_type": "markdown",
      "source": [
        "### Matriz de Pontos\n",
        "\n",
        "Aqui fazemos uma comparação de cada caractere *i* na sequência *seq1* com cada caractere *j* na sequência *seq2*. Se os caracteres são idênticos (i.e., se seq1[i] == seq2[j]), assinalamos um 1 na matriz. Se são diferentes, assinalamos um 0. "
      ],
      "metadata": {
        "id": "J4aDfGOCjt9x"
      }
    },
    {
      "cell_type": "code",
      "source": [
        "dot_matrix=[]\n",
        "for i in range(0, len(seq1)):\n",
        "  v=[];\n",
        "  for j in range(0, len(seq2)):\n",
        "    if (seq1[i] == seq2[j]):\n",
        "      v.append(1);\n",
        "    else:\n",
        "      v.append(0);\n",
        "  dot_matrix.append(v);\n",
        "\n",
        "plt.figure(figsize=(40,20))\n",
        "plt.matshow(dot_matrix, fignum=1)\n",
        "\n",
        "\n",
        "# mostrando a matriz:\n",
        "\n",
        "#for i in range(0, len(seq1)):\n",
        "#  for j in range(0, len(seq2)):\n",
        "#    sys.stdout.write(\"%d \" % dot_matrix[i][j])\n",
        "#  sys.stdout.write(\"\\n\")\n"
      ],
      "metadata": {
        "id": "TeaLECEn_aEw"
      },
      "execution_count": null,
      "outputs": []
    },
    {
      "cell_type": "markdown",
      "source": [
        "# Refinando a Matriz de Pontos\n",
        "\n",
        "Nesta seção, vamos **refinar** nossa matriz ou filtrá-la para remover um pouco do ruído. A abordagem que usaremos é a abordagem da janela deslizante. Aqui definiremos uma janela de 6 aminoácidos, por exemplo. Para cada aminoácido *i* na sequência seq1, analisaremos [i, i+1, i+2, i+3, i+4 e i+5]. Compararemos estes 6 aminoácidos com os aminoácidos *j* na sequência seq2 dentro de uma janela de 6 aminoácidos também: [j, j+1, j+2, j+3, j+4 e j+5]. \n",
        "\n",
        "Na comparação de (i+k) com (j+k) com *k* que vai de 0 a 5, tivermos pelo menos 3 aminoácidos em comum entre seq1 e seq2, colocamos um 1 na posição i,j da matriz de pontos. \n",
        "\n",
        "Neste caso, o número mínimo de posições coincidentes é a *strigency* no nosso código."
      ],
      "metadata": {
        "id": "SnzMfTqskKRq"
      }
    },
    {
      "cell_type": "code",
      "source": [
        "dot_matrix=[]\n",
        "\n",
        "window=3;\n",
        "stringency=2;\n",
        "\n",
        "\n",
        "for i in range(0, len(seq1)-window+1):\n",
        "  v=[];\n",
        "  for j in range(0, len(seq2)-window+1):\n",
        "    count=0\n",
        "    for k in range(0,window):\n",
        "      if (seq1[i+k] == seq2[j+k]):\n",
        "        count = count+1;\n",
        "    if (count >= stringency):\n",
        "      v.append(1);\n",
        "    else:\n",
        "      v.append(0);\n",
        "  dot_matrix.append(v);\n",
        "\n",
        "\n",
        "plt.figure(figsize=(40,20))\n",
        "plt.matshow(dot_matrix, fignum=1)\n",
        "\n",
        "#print(dot_matrix)"
      ],
      "metadata": {
        "id": "oDmH2Ka8BVTh"
      },
      "execution_count": null,
      "outputs": []
    },
    {
      "cell_type": "markdown",
      "source": [
        "# Analisando sequências reais\n",
        "\n",
        "1. Vamos começar analisando as sequências do exemplo: (GCATGCG) e\n",
        "(GATTACA). O que você vê de similaridades nesta matriz? O que você\n",
        "vê se mudarmos a segunda sequência para (GAATGCA) ? É possível\n",
        "detectar alguma característica interessante (apesar de ser uma sequência\n",
        "tão curta)? (**Q1**)\n",
        "\n",
        "2. Usando o mesmo código, vamos analisar um caso mais próximo de um\n",
        "caso real. No NCBI, vamos buscar a sequência do [receptor de mineralocorticóide humano](https://www.ncbi.nlm.nih.gov/protein/AAA59571.1?report=fasta) e também a sequência do [receptor de progesterona\n",
        "humano](https://www.ncbi.nlm.nih.gov/protein/AAA60081.1?report=fasta). Analise estas duas sequências usando seu código de matriz de\n",
        "pontos. Há similaridades detectáveis entre elas?\n",
        "\n",
        "3. Vamos filtrar a nossa matriz de pontos. Para isso, vamos usar o con-\n",
        "ceito de janelas deslizantes (sliding window ). O último campo do formu-\n",
        "lário do Google Colab já contem o código para isto. Utilize *window=6* e *stringency=3*. O que acontece quando você repete a mesma análise com\n",
        "as sequências do item 2 acima? (**Q2**)"
      ],
      "metadata": {
        "id": "ID8iGExIpBKx"
      }
    }
  ]
}