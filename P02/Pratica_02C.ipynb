{
  "nbformat": 4,
  "nbformat_minor": 0,
  "metadata": {
    "colab": {
      "name": "Pratica_02C.ipynb",
      "provenance": []
    },
    "kernelspec": {
      "name": "python3",
      "display_name": "Python 3"
    },
    "language_info": {
      "name": "python"
    }
  },
  "cells": [
    {
      "cell_type": "markdown",
      "source": [
        "[![Open In Colab](https://colab.research.google.com/assets/colab-badge.svg)](https://colab.research.google.com/github/alessandronascimento/BioMolComp/blob/main/P02/Pratica_02C.ipynb)\n",
        "\n",
        "# Alinhamento de um Par de Sequências de Proteínas Usando Matriz de Substituição\n",
        "\n",
        "Nesta seção vamos fazer um novo alinhamento. Desta vez, usaremos a matriz de\n",
        "substituição BLOSUM62 para alinhar as sequências de duas proteínas. \n",
        "\n",
        "Primeiramente, instalaremos o BioPython e definiremos nossa matriz de substituição como a matriz BLOSUM62. Esta matriz ficará definida no objeto *aligner*."
      ],
      "metadata": {
        "id": "AIgYlWNuptcq"
      }
    },
    {
      "cell_type": "code",
      "execution_count": null,
      "metadata": {
        "id": "D5EiNS_Z2Ljz"
      },
      "outputs": [],
      "source": [
        "!pip3 install biopython\n",
        "import sys, os\n",
        "from Bio import Align\n",
        "\n",
        "from Bio.Align import substitution_matrices\n",
        "\n",
        "matrix = substitution_matrices.load(\"BLOSUM62\")\n",
        "# print(matrix)\n",
        "aligner = Align.PairwiseAligner()\n",
        "aligner.substitution_matrix = matrix"
      ]
    },
    {
      "cell_type": "markdown",
      "source": [
        "## Entrada de Sequências\n",
        "\n",
        "Aqui faremos a entrada com as sequências que queremos alinhar. A matriz de substituição possui um dicionário para lidar com os 20 tipos de aminoácidos. Caracteres outros que apareçam na sequência resultarão em erro. Para evitar os erros, também substituiremos (removeremos) os espaços eventualmente presentes na sequência."
      ],
      "metadata": {
        "id": "UDu4aPdZqY4e"
      }
    },
    {
      "cell_type": "code",
      "source": [
        "seq1 = \"\" #@param {type:\"string\"}\n",
        "seq2 = \"\" #@param {type:\"string\"}\n",
        "\n",
        "seq1 = seq1.replace(' ', '')\n",
        "seq2 = seq2.replace(' ', '')\n",
        "\n",
        "print(\"A sequencia 1 tem %d residuos\" % len(seq1))\n",
        "print(\"A sequencia 2 tem %d residuos\" % len(seq2))\n"
      ],
      "metadata": {
        "id": "bK7_mvSy2NoQ"
      },
      "execution_count": null,
      "outputs": []
    },
    {
      "cell_type": "markdown",
      "source": [
        "# Alinhamento Local\n",
        "\n",
        "Nesta etapa fazemos o alinhamento (local) das duas sequências. "
      ],
      "metadata": {
        "id": "eBvCQmuAqw8F"
      }
    },
    {
      "cell_type": "code",
      "source": [
        "aligner.mode = 'global'\n",
        "alignments = aligner.align(seq1, seq2)\n",
        "\n",
        "print(alignments[0])\n",
        "\n",
        "score = aligner.score(seq1, seq2)\n",
        "print(\"Score = %d\" % score)\n",
        "print(\"Algoritmo: %s\" % aligner.algorithm)"
      ],
      "metadata": {
        "id": "_P-whWRE2XoY"
      },
      "execution_count": null,
      "outputs": []
    },
    {
      "cell_type": "markdown",
      "source": [
        "# Análise do Resultado\n",
        "\n",
        "1. Experimente alinhar a sequência do [receptor de mineralocorticóide humano](https://www.ncbi.nlm.nih.gov/protein/AAA59571.1?report=fasta) com a sequência do [receptor de progesterona humano](https://www.ncbi.nlm.nih.gov/protein/AAA60081.1?report=fasta) usando o algoritmo de PD **global**. O alinhamento que você obteve é razoável? Por que?\n",
        "\n",
        "2. Altere o algoritmo para o modo **local**. Que diferenças você pôde\n",
        "observar? O que podemos concluir até agora sobre as duas sequências?\n",
        "\n",
        "3. Experimente aumentar o peso do *gap* para −10, utilizando o próximo campo\n",
        "do Google Colab. O que mudou no alinhamento obtido? O que podemos\n",
        "concluir sobre o alinhamento das duas proteínas ? O que as diferenças\n",
        "no código nos ensinam sobre o alinhamento de sequências?\n",
        "(**Q4**)"
      ],
      "metadata": {
        "id": "632UKt-Fu8sG"
      }
    },
    {
      "cell_type": "markdown",
      "source": [
        "# Alinhamento Local - Parte 2\n",
        "\n",
        "Aqui, repetimos o alinhamento local, mas definimos manualmente o escore para a abertura de um gap e para a extensão do gap."
      ],
      "metadata": {
        "id": "8GLhDS8Rq2_A"
      }
    },
    {
      "cell_type": "code",
      "source": [
        "aligner.mode = 'global'\n",
        "aligner.open_gap_score = -10\n",
        "aligner.extend_gap_score = -0.5\n",
        "alignments = aligner.align(seq1, seq2)\n",
        "\n",
        "print(alignments[0])\n",
        "\n",
        "score = aligner.score(seq1, seq2)\n",
        "print(\"Score = %d\" % score)\n",
        "print(\"Algoritmo: %s\" % aligner.algorithm)"
      ],
      "metadata": {
        "id": "U_dZ_wu999yG"
      },
      "execution_count": null,
      "outputs": []
    }
  ]
}