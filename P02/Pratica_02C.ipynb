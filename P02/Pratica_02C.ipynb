{
  "nbformat": 4,
  "nbformat_minor": 0,
  "metadata": {
    "colab": {
      "name": "Pratica_02C.ipynb",
      "provenance": [],
      "collapsed_sections": []
    },
    "kernelspec": {
      "name": "python3",
      "display_name": "Python 3"
    },
    "language_info": {
      "name": "python"
    }
  },
  "cells": [
    {
      "cell_type": "markdown",
      "source": [
        "[![Open In Colab](https://colab.research.google.com/assets/colab-badge.svg)](https://colab.research.google.com/github/alessandronascimento/BioMolComp/blob/main/P02/Pratica_02C.ipynb)\n",
        "\n",
        "# Alinhamento de um Par de Sequências de Proteínas Usando Matriz de Substituição\n",
        "\n",
        "\n",
        "Nesta seção, alinharemos duas sequências de proteínas usando o BioPython. Usaremos a matriz de substituição BLOSUM62 (você pode testar outras, se quiser!).\n",
        "\n",
        "Primeiramente, instalaremos o BioPython e definiremos nossa matriz de substituição como a matriz BLOSUM62. Esta matriz ficará definida no objeto *aligner*."
      ],
      "metadata": {
        "id": "AIgYlWNuptcq"
      }
    },
    {
      "cell_type": "code",
      "execution_count": null,
      "metadata": {
        "colab": {
          "base_uri": "https://localhost:8080/"
        },
        "id": "D5EiNS_Z2Ljz",
        "outputId": "457224f4-ef3e-4072-8be0-5a341b660b44"
      },
      "outputs": [
        {
          "output_type": "stream",
          "name": "stdout",
          "text": [
            "Collecting biopython\n",
            "  Downloading biopython-1.79-cp37-cp37m-manylinux_2_5_x86_64.manylinux1_x86_64.whl (2.3 MB)\n",
            "\u001b[K     |████████████████████████████████| 2.3 MB 5.3 MB/s \n",
            "\u001b[?25hRequirement already satisfied: numpy in /usr/local/lib/python3.7/dist-packages (from biopython) (1.21.5)\n",
            "Installing collected packages: biopython\n",
            "Successfully installed biopython-1.79\n"
          ]
        }
      ],
      "source": [
        "!pip3 install biopython\n",
        "import sys, os\n",
        "from Bio import Align\n",
        "\n",
        "from Bio.Align import substitution_matrices\n",
        "\n",
        "matrix = substitution_matrices.load(\"BLOSUM62\")\n",
        "# print(matrix)\n",
        "aligner = Align.PairwiseAligner()\n",
        "aligner.substitution_matrix = matrix"
      ]
    },
    {
      "cell_type": "markdown",
      "source": [
        "## Entrada de Sequências\n",
        "\n",
        "Aqui faremos a entrada com as sequências que queremos alinhar. A matriz de substituição possui um dicionário para lidar com os 20 tipos de aminoácidos. Caracteres outros que apareçam na sequência resultarão em erro. Para evitar os erros, também substituiremos (removeremos) os espaços eventualmente presentes na sequência."
      ],
      "metadata": {
        "id": "UDu4aPdZqY4e"
      }
    },
    {
      "cell_type": "code",
      "source": [
        "seq1 = \"\" #@param {type:\"string\"}\n",
        "seq2 = \"\" #@param {type:\"string\"}\n",
        "\n",
        "seq1 = seq1.replace(' ', '')\n",
        "seq2 = seq2.replace(' ', '')\n",
        "\n",
        "print(\"A sequencia 1 tem %d residuos\" % len(seq1))\n",
        "print(\"A sequencia 2 tem %d residuos\" % len(seq2))\n"
      ],
      "metadata": {
        "id": "bK7_mvSy2NoQ",
        "colab": {
          "base_uri": "https://localhost:8080/"
        },
        "outputId": "b69a66c7-0d9a-4184-f814-133d3bb3bae8"
      },
      "execution_count": null,
      "outputs": [
        {
          "output_type": "stream",
          "name": "stdout",
          "text": [
            "A sequencia 1 tem 984 residuos\n",
            "A sequencia 2 tem 933 residuos\n"
          ]
        }
      ]
    },
    {
      "cell_type": "markdown",
      "source": [
        "# Alinhamento Local\n",
        "\n",
        "Nesta etapa fazemos o alinhamento (local) das duas sequências. "
      ],
      "metadata": {
        "id": "eBvCQmuAqw8F"
      }
    },
    {
      "cell_type": "code",
      "source": [
        "aligner.mode = 'local'\n",
        "alignments = aligner.align(seq1, seq2)\n",
        "\n",
        "print(alignments[0])\n",
        "\n",
        "score = aligner.score(seq1, seq2)\n",
        "print(\"Score = %d\" % score)\n",
        "print(\"Algoritmo: %s\" % aligner.algorithm)"
      ],
      "metadata": {
        "colab": {
          "base_uri": "https://localhost:8080/"
        },
        "id": "_P-whWRE2XoY",
        "outputId": "15776073-1fbe-4d89-d4a4-e11c0a2b0d44"
      },
      "execution_count": null,
      "outputs": [
        {
          "output_type": "stream",
          "name": "stdout",
          "text": [
            "MET--K--GY----H------SLPE-G--LDME-RRWGQV-SQAVERSSLGP---TERT-DENNY-M-EIVNVSCVSGAIPNN-STQ--GSSKEKQELL-P--CLQ-QDNNRPGILTSDI-KTE----L---E---SK-ELSATV--A--------E--SMGLYMDSVR-D---ADY-SYE---QQNQQG-SMSP-AKIY-QNVEQ-----LVKFYKG-----NGHRP-S---T---LSCVNTPLRSFMSD-SGSS--VNG---GVMR-AIVKSPIMC-HEKS--PS--VCSP---LNMTSSVCSPAGINSV-SSTTASFGSFPVH-S--PITQGTPLTCSPN-A---E----NRGSR-SH--SPAHASNVGSPLSS----P--L--SSMKS---S--ISSPP-SHCS---VKS--PV---S--S-PNN-VT-LRSSV---SSP-ANINNSRCSVSSPSNTNN-RSTLSSP-AASTVGS---ICS--PV---NNAF-------------SYT---ASG--T------S---AGSSTLRD-V-V---P--S-P-DTQ-E-KG--AQEV-P----F-P---KT--EEVE-----SAI-S--NG--VT-GQL-NIVQYIKPE---PDGAFSSSC-LG--------------G---------N-SKINSD-SSFSVPIKQE-ST-KHSCSGTS--FK--GN-PTVNPF---PFMDGSYFSFMDDKDYYSLSGILGPPVPGFDGNCE--G-SGF---PV--GIKQEPDD---------GSYY-PEASI-PSSAIVGVNSG----GQSFHYRIGA----QGTISLSRSARD-QSFQHLSSFPP-VNT-LVESWKSHG-DLS--SRRSDGYPVLEYIP--ENVSSSTLRSVSTGSSRPS-KICLVCGDEASGCHYGVVTCGSCKVFFKRAVEGQHNYLCAGRNDCIIDKIRRKNCPACRLQKCL-QAGMN-LGA-RKS-KKLG--KLKGIH----EEQ----PQQQQPPPPPPPPQSPEE-GTTYIAPAK-EPSVNT-ALV-------P-QLST-ISRALT-PSPVMVLEN----IEPEIVYAGYDSSKPDTAEN-LLST-LNRLAG-KQMIQ-VVKWAKV-LPGFKNLP-LEDQITLIQYSWMCLSS---FA-LS-WRSYKHTN-S-QF-LYFAPDLVF-NEEKMH-QSAM-YE-LCQG--MH-QISL-Q-FVRLQLTF-EEYTI-MKVLLLLSTIPK-DGLKSQAA--FEEMRTNYIKELRKMVTKCPNNS-G--Q----SW--QRFYQLTKLLDSMHDLVSD--L-LEFCFY--TFR-ESH-ALK-VEFPA-MLV-EIISD-QLPKVE-SGNA--KPLY-FHRK\n",
            "|-|--|--|-----|------|-||-|--|-.--|------.-|------||---..-|-|-----.-|-|--|----|||---|----|-------||-|--|-|-||---|----||--||.----|---|---|.-|--||---|--------|--|-||-.|||--|---|---|-----|-.|---|--|-|----.-|-------|--|--|-----.---|-.---|---||----||---||--||----|-|---|----|---.-----|-|---|---.-||---|-.---.--||---|--|---------|-|-|--|.-.--|---||--|---|----.-||--|---|-|-----|-||------|--|--..--.---.--.--||-.--.---|-.--|----|--|-|---|--|---|---.-|-|-----------|------||----|-|-.||-----|----|.---|.|--------------||----|-|--.------|---|-|||----|-|---|--.-|-|---|-|---|----|----|-|---|---||-|-----||--|--.---|--|---|------|----||--|-----||--------------|---------.-|-..|--||-|-------||-.--|------.|--|--|---|----||---.------------------||-|-----|.--|-||----|---|.---|-----------|.---|-|-.-|--|.-|.|-|----|----|.--|----.|---|-------|----.--.||-.|--|----.----|-|--|.-|---|--.|----|--|---|---------|--||||.||||||||||||.||||||||||||.|||||||||||||||.|||||||||||||.||--||||--||--||--||----|..-.-----.------||---|-------------|---.-|---|-|----||--------|-|----|-.-|--|-|-..--|----|||...|||.|..||||.-.-||-|-||.|-|-.|..--||||.|--||||.||--..|||||||||||--|----|--|--||||||---|-|--|||||||.--||..|--.|.--|--||----|--||---|-||.||..--||.-.-|||||||.|||--.||.||----|||||..||.||---.-|----.-|--|----|---|||||||||||..||||----|-|-.|----||--.|--||--||||--|.--|.|.--||||.--.|----|||--||.|\n",
            "M-TELKAKG-PRAPHVAGGPPS-PEVGSPL-L-CR-----PA-A------GPFPGSQ-TSD----TLPE-V--S----AIP--IS--LDG-------LLFPRPC-QGQD---P----SD-EKTQDQQSLSDVEGAYSRAE--AT-RGAGGSSSSPPEKDS-GL-LDSV-LDTLLA--PS--GPGQ-SQ--PS--PPA---CE-V--TSSWCL--F--GPELPED---PPAAPATQRVLS----PL---MS-RSG--CKV-GDSSG---TA---A----AH-K-VLP-RGL-SPARQL-L---L--PA---S-ES---------P-HWSGAPV-K--P---SP-QAAAVEVEEED-GS-ES-EES-A-----G-PL--LKGKPRALGGAA--AGGGAAAV--PPGA--AAGGV-ALVP-KEDSRFSAP--RV-AL---VEQDA-PMA-----------P-----GRS----PLA-TTV--MDFI--HVPILPLNHA-LLAARTRQLLEDESY-DGGA-GAASAFAPPRSSPCA-SST---PVAVGDFPDCAYPPD--AEPK-DDA---YPLYSDFQPPALK-IKEE-EEGAEASA-RSPRS-YLV-AG--AN------P-AAFPD--F----PLGPPPPLPPRATPSRPGEAAVTAAPASAS-VSS-ASS-S------GSTLE--C----ILYKAEG-AP---P-QQGPF---A------------------PP-P-----CKAPGASG-CLLP-RDGL---P--STSASAAAAGA--AP-A-LYP--AL-GLN-GLPQLG----YQ--AAVLKEG---L------PQ----V--YPPYLN-YL----R---PD-SEASQ-S---P--QY--SFE--S---L---------P-QKICLICGDEASGCHYGVLTCGSCKVFFKRAMEGQHNYLCAGRNDCIVDKIRRKNCPACRLRKC-CQAGM-VLG-GRK-FKK--FNKVR-V-VRALD--AVALPQ---P------------VG---V-P--NE-S---QAL-SQRFTFSPGQ---DI-Q-L-IP-P-LI--NLLMSIEPDVIYAGHDNTKPDTS-SSLL-TSLNQL-GERQLL-SVVKWSK-SLPGFRNL-HIDDQITLIQYSWM--S-LMVF-GL-GWRSYKH--VSGQ-MLYFAPDLI-LNEQRM-KESS-FY-SLC--LTM-WQI--PQEFVKLQVS-QEEF-LCMKVLLLLNTIP-LEGLRSQ--TQFEEMRSSYIREL---I-K----AIGLRQKGVVS-SSQRFYQLTKLLDNLHDLV--KQLHL-YC--LNTF-IQS-RAL-SVEFP-EMM-SEVIA-AQLPKI-LAG--MVKPL-LFHKK\n",
            "\n",
            "Score = 2583\n",
            "Algoritmo: Smith-Waterman\n"
          ]
        }
      ]
    },
    {
      "cell_type": "markdown",
      "source": [
        "# Alinhamento Local - Parte 2\n",
        "\n",
        "Aqui, repetimos o alinhamento local, mas definimos manualmente o escore para a abertura de um gap e para a extensão do gap."
      ],
      "metadata": {
        "id": "8GLhDS8Rq2_A"
      }
    },
    {
      "cell_type": "code",
      "source": [
        "aligner.mode = 'local'\n",
        "aligner.open_gap_score = -10\n",
        "aligner.extend_gap_score = -0.5\n",
        "alignments = aligner.align(seq1, seq2)\n",
        "\n",
        "print(alignments[0])\n",
        "\n",
        "score = aligner.score(seq1, seq2)\n",
        "print(\"Score = %d\" % score)\n",
        "print(\"Algoritmo: %s\" % aligner.algorithm)"
      ],
      "metadata": {
        "colab": {
          "base_uri": "https://localhost:8080/"
        },
        "id": "U_dZ_wu999yG",
        "outputId": "bc6d00db-f690-4371-8c40-24494346f552"
      },
      "execution_count": null,
      "outputs": [
        {
          "output_type": "stream",
          "name": "stdout",
          "text": [
            "METKGYHSLPEGLDMERRWGQVSQAVERSSLGPTERTDENNYMEIVNVSCVSGAIPNNSTQGSSKEKQELLPCLQQDNNRPGILTSDIKTELESKELSATVAESMGLYMDSVRDADYSYEQQNQQGSMSPAKIYQNVEQLVKFYKGNGHRPSTLSCVNTPLRSFMSDSGSSVNGGVMRAIVKSPIMCHEKSPSVCSPLNMTSSVCSPAG----INSVSSTTASFGSFPVHSPITQGT--PLTC---SPNAEN----------RGSRSHSPAHASNVGSPLSSP------LSSMKSSISSPPSHCSVKSPVSSPNNVTLRSSVSSPANINNSRCSVSS---------PSNTNNRSTLSSPAASTVGSICSPVNNAFSYTASGTSAGSSTLRDVVP---SPDTQ----------EKGAQEVPFPKTEEVESAISNGVTGQLNIVQYIKPEPDGAFSSSCLGGNSKI-------------NSDSSFSVP----IKQESTKHSCSGTSFKGNP---TVNPF---PFMDGSYF-------SFMDDKDYYSLSGILGPPVPGFDGNCEGSGFPVGIKQEPDDGSYYPEASIPSSAIVGVNSGGQSFHYRI-----GAQGTISLSRS-----ARDQSFQHLSSFPPV------------NTLVESWKSHGDLSSRRSDG--------------------------------------------------------YPVL----------------EYIPENVSS--STLRSVSTGS--------SRPSKICLVCGDEASGCHYGVVTCGSCKVFFKRAVEGQHNYLCAGRNDCIIDKIRRKNCPACRLQKCLQAGMNLGARKSKKLGKLKGIHE-EQPQQQQPPPPPPPPQSPEEGTTYIAPAKEPSVNTALVPQLSTISRALTPSPVMVLENIEPEIVYAGYDSSKPDTAENLLSTLNRLAGKQMIQVVKWAKVLPGFKNLPLEDQITLIQYSWMCLSSFALSWRSYKHTNSQFLYFAPDLVFNEEKMHQSAMYELCQGMHQISLQFVRLQLTFEEYTIMKVLLLLSTIPKDGLKSQAAFEEMRTNYIKELRKMVTKCPNNSGQSWQRFYQLTKLLDSMHDLVSDLLEFCFYTFRESHALKVEFPAMLVEIISDQLPKVESGNAKPLYFHRK\n",
            "                                                                                                                                                                                              ||.|.|||-----.|.||.----....|.|.......|..---..|.--|..|---.|..|.----------.|..|...|.....||..|.|------|.|.......|----------|.|.----.|..|.||------|.|.|---------|..--------.|||.......||....-|....|.|.|......|.|---||..|----------..||...|.|....||.....|...........|..|.........||....-------------..||.||.|----..|...--...|.|----|---||..|---|.......-------....|..|....|......|.....|-.|..||.....||--..||....|........|..|.....|-----||.......||-----|....|......||.------------...|.........||..|.|--------------------------------------------------------||.|----------------|..|.....--..||..|..|--------|.|.||||.||||||||||||.||||||||||||.|||||||||||||||.|||||||||||||.||.||||.||.||.||..|......-......||...|...|......|.-----.|.....|.|.|-----------...|..|||...|||.|..||||...||..||.|...|...||||.|.||||.||...|||||||||||.|..|.|.||||||...|.|||||||..||..|..|..|.||..|.||...||.||...||...|||||||.|||..||.||..|||||..||.||.|...........|.|||||||||||..||||..|...|..||..|.||.||||.|..|.|..||||...|..|||.||.|\n",
            "                                                                                                                                                                           MTELKAKGPRAPHVAGGPPSPEVGSPL-----LCRPAAGPFPGSQTSDTLPEVSAIPIS---LDGLLFPRPCQGQDPSDEKTQDQQSLSDVEGAYSRAEATRGAGGSSSSPPEKDSGLLDSVLDTLLAP----------SGPG----QSQPSPPA------CEVTSSWCLFGPELPED--------PPAAPATQRVLSPLMSR-SGCKVGDSSGTAAAHKVLPRGLSPARQLLLPASESPHWSGAPVKPSPQAAAVEVEEEDGSESEESAGPLLKGKPRALGGAAAGGGAAAVPPGAAAGGVALVPKEDSRFSAPRVALVEQDAP--MAPGRS----PLATTVMDFIHVPILPLNHALLAARTRQLLEDESYDGGAGAASAFAPPRSSPC-ASSTPVAVGDFPD--CAYPPDAEPKDDAYPLYSDFQPPALKIKEEEEGAEASARSPRSYLVAGANPAAFPDFPLGPPPPLPPRATPSRPGEAAVTAAPASASVSSASSSGSTLECILYKAEGAPPQQGPFAPPPCKAPGASGCLLPRDGLPSTSASAAAAGAAPALYPALGLNGLPQLGYQAAVLKEGLPQVYPPYLNYLRPDSEASQSPQYSFESLPQKICLICGDEASGCHYGVLTCGSCKVFFKRAMEGQHNYLCAGRNDCIVDKIRRKNCPACRLRKCCQAGMVLGGRKFKKFNKVRVVRALDAVALPQPVGVPNESQALSQRFTF-----SPGQDIQLIPPL-----------INLLMSIEPDVIYAGHDNTKPDTSSSLLTSLNQLGERQLLSVVKWSKSLPGFRNLHIDDQITLIQYSWMSLMVFGLGWRSYKHVSGQMLYFAPDLILNEQRMKESSFYSLCLTMWQIPQEFVKLQVSQEEFLCMKVLLLLNTIPLEGLRSQTQFEEMRSSYIRELIKAIGLRQKGVVSSSQRFYQLTKLLDNLHDLVKQLHLYCLNTFIQSRALSVEFPEMMSEVIAAQLPKILAGMVKPLLFHKK\n",
            "\n",
            "Score = 1215\n",
            "Algoritmo: Gotoh local alignment algorithm\n"
          ]
        }
      ]
    }
  ]
}