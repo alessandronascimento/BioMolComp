{
  "nbformat": 4,
  "nbformat_minor": 0,
  "metadata": {
    "colab": {
      "name": "Pratica_02B.ipynb",
      "provenance": []
    },
    "kernelspec": {
      "name": "python3",
      "display_name": "Python 3"
    },
    "language_info": {
      "name": "python"
    }
  },
  "cells": [
    {
      "cell_type": "markdown",
      "source": [
        "[![Open In Colab](https://colab.research.google.com/assets/colab-badge.svg)](https://colab.research.google.com/github/alessandronascimento/BioMolComp/blob/main/P02/Pratica_02B.ipynb)\n",
        "\n",
        "# Alinhamento de Sequências\n",
        "\n",
        "Um par de sequências pode ser alinhado usando uma matriz de substituição ou qualquer outra forma de pontuação para *match*, *mismatch* e *gap*. O mesmo algoritmo pode ser adaptado para a obtenção de\n",
        "um alinhamento **global** (onde o alinhamento cobre toda a extensão das duas\n",
        "sequências) ou **local** (onde o alinhamento cobre apenas as regiões melhor ali-\n",
        "nhadas das duas sequências). A diferença é feita na mudança de alguns critérios\n",
        "na execução do algoritmo. A diferença mais importante é a definição\n",
        "de um critério limite de escore. Quando o alinhamento obtido gera um escore\n",
        "menor do que este limite, o alinhamento é finalizado ali, ao invés de cobrir toda a extensão das sequências.\n",
        "\n",
        "\n",
        "Nesta seção usaremos as duas variações do algoritmo de PD, local e global,\n",
        "para alinhar a sequência de nucleotídeos que temos usado como exemplo. Para\n",
        "este exemplo, definiremos os escores para de *match=1*, *mismatch=−1* e *gap=−1*. "
      ],
      "metadata": {
        "id": "OOkRUQkfyfAp"
      }
    },
    {
      "cell_type": "markdown",
      "source": [
        "## Instalando o BioPython\n",
        "\n",
        "Primeiramente vamos carregar as bibliotecas necessárias e definir o objeto *aligner* que vai guardar as informações do alinhamento"
      ],
      "metadata": {
        "id": "ysYLu-kHtzKE"
      }
    },
    {
      "cell_type": "code",
      "execution_count": null,
      "metadata": {
        "id": "WqdgmQIcyeXu"
      },
      "outputs": [],
      "source": [
        "!pip3 install biopython\n",
        "import sys, os\n",
        "from Bio import Align\n",
        "\n",
        "aligner = Align.PairwiseAligner()"
      ]
    },
    {
      "cell_type": "markdown",
      "source": [
        "Agora vamos definir os parâmetros do nosso alinhamento de sequências e fazer um alinhamento **global** (padrão do algoritmo)"
      ],
      "metadata": {
        "id": "YSmeVGnWy-lR"
      }
    },
    {
      "cell_type": "code",
      "source": [
        "aligner.mode = 'global'\n",
        "aligner.match_score = 1.0\n",
        "aligner.mismatch_score = -1.0\n",
        "aligner.gap_score = -1.0\n",
        "seq1 = \"GCATGCG\"\n",
        "seq2 = \"GATTACA\"\n",
        "alignments = aligner.align(seq1, seq2)\n",
        "for alignment in alignments:\n",
        "  print(alignment)\n",
        "score = aligner.score(seq1, seq2)\n",
        "print(\"Score = %d\" % score)\n",
        "print(\"Algoritmo: %s\" % aligner.algorithm)"
      ],
      "metadata": {
        "id": "0JmWnrZcy-Hr"
      },
      "execution_count": null,
      "outputs": []
    },
    {
      "cell_type": "markdown",
      "source": [
        "Agora vamos alternar para o algoritmo **local**"
      ],
      "metadata": {
        "id": "fTfJ3fVL1C9R"
      }
    },
    {
      "cell_type": "code",
      "source": [
        "aligner.mode = 'local'\n",
        "aligner.match_score = 1.0\n",
        "aligner.mismatch_score = -1.0\n",
        "aligner.gap_score = -1.0\n",
        "seq1 = \"GCATGCG\"\n",
        "seq2 = \"GATTACA\"\n",
        "alignments = aligner.align(seq1, seq2)\n",
        "for alignment in alignments:\n",
        "  print(alignment)\n",
        "score = aligner.score(seq1, seq2)\n",
        "print(\"Score = %d\" % score)\n",
        "print(\"Algoritmo: %s\" % aligner.algorithm)"
      ],
      "metadata": {
        "id": "xNrXqAzB1Gro"
      },
      "execution_count": null,
      "outputs": []
    },
    {
      "cell_type": "markdown",
      "source": [
        "# Análise do Resultado\n",
        "\n",
        "1. A execução do script mostra três alinhamentos globais obtidos. Você\n",
        "saberia dizer por que são obtidos três alinhamentos? O que acontece se o\n",
        "algoritmo usado é alterado para local ? (**Q3**)"
      ],
      "metadata": {
        "id": "DgxcIql_t80-"
      }
    }
  ]
}