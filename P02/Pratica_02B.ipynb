{
  "nbformat": 4,
  "nbformat_minor": 0,
  "metadata": {
    "colab": {
      "name": "Pratica_02B.ipynb",
      "provenance": [],
      "collapsed_sections": []
    },
    "kernelspec": {
      "name": "python3",
      "display_name": "Python 3"
    },
    "language_info": {
      "name": "python"
    }
  },
  "cells": [
    {
      "cell_type": "markdown",
      "source": [
        "[![Open In Colab](https://colab.research.google.com/assets/colab-badge.svg)](https://colab.research.google.com/github/alessandronascimento/BioMolComp/blob/main/P02/Pratica_02B.ipynb)\n",
        "\n",
        "# Alinhamento de Sequências\n",
        "\n",
        "Nesta parte da prática, vamos efetivamente alinhar duas sequências. Primeiramente faremos isto com duas sequências curtas de ácidos nucleicos. \n",
        "\n",
        "Primeiramente vamos carregar as bibliotecas necessárias e definir o objeto *aligner* que vai guardar as informações do alinhamento"
      ],
      "metadata": {
        "id": "OOkRUQkfyfAp"
      }
    },
    {
      "cell_type": "code",
      "execution_count": 4,
      "metadata": {
        "colab": {
          "base_uri": "https://localhost:8080/"
        },
        "id": "WqdgmQIcyeXu",
        "outputId": "9f39f3bb-d3d1-4d69-ad20-7d82761c65ac"
      },
      "outputs": [
        {
          "output_type": "stream",
          "name": "stdout",
          "text": [
            "Requirement already satisfied: biopython in /usr/local/lib/python3.7/dist-packages (1.79)\n",
            "Requirement already satisfied: numpy in /usr/local/lib/python3.7/dist-packages (from biopython) (1.21.5)\n"
          ]
        }
      ],
      "source": [
        "!pip3 install biopython\n",
        "import sys, os\n",
        "from Bio import Align\n",
        "\n",
        "aligner = Align.PairwiseAligner()"
      ]
    },
    {
      "cell_type": "markdown",
      "source": [
        "Agora vamos definir os parâmetros do nosso alinhamento de sequências e fazer um alinhamento **global** (padrão do algoritmo)"
      ],
      "metadata": {
        "id": "YSmeVGnWy-lR"
      }
    },
    {
      "cell_type": "code",
      "source": [
        "aligner.mode = 'global'\n",
        "aligner.match_score = 1.0\n",
        "aligner.mismatch_score = -1.0\n",
        "aligner.gap_score = -1.0\n",
        "seq1 = \"GCATGCG\"\n",
        "seq2 = \"GATTACA\"\n",
        "alignments = aligner.align(seq1, seq2)\n",
        "for alignment in alignments:\n",
        "  print(alignment)\n",
        "score = aligner.score(seq1, seq2)\n",
        "print(\"Score = %d\" % score)\n",
        "print(\"Algoritmo: %s\" % aligner.algorithm)"
      ],
      "metadata": {
        "colab": {
          "base_uri": "https://localhost:8080/"
        },
        "id": "0JmWnrZcy-Hr",
        "outputId": "3dd2045f-fdad-4d4e-f6c3-5df5fdf6bb63"
      },
      "execution_count": 5,
      "outputs": [
        {
          "output_type": "stream",
          "name": "stdout",
          "text": [
            "GCATG-CG\n",
            "|-||.-|.\n",
            "G-ATTACA\n",
            "\n",
            "GCAT-GCG\n",
            "|-||-.|.\n",
            "G-ATTACA\n",
            "\n",
            "GCA-TGCG\n",
            "|-|-|.|.\n",
            "G-ATTACA\n",
            "\n",
            "Score = 0\n",
            "Algoritmo: Needleman-Wunsch\n"
          ]
        }
      ]
    },
    {
      "cell_type": "markdown",
      "source": [
        "Agora vamos alternar para o algoritmo **local**"
      ],
      "metadata": {
        "id": "fTfJ3fVL1C9R"
      }
    },
    {
      "cell_type": "code",
      "source": [
        "aligner.mode = 'local'\n",
        "aligner.match_score = 1.0\n",
        "aligner.mismatch_score = -1.0\n",
        "aligner.gap_score = -1.0\n",
        "seq1 = \"GCATGCG\"\n",
        "seq2 = \"GATTACA\"\n",
        "alignments = aligner.align(seq1, seq2)\n",
        "for alignment in alignments:\n",
        "  print(alignment)\n",
        "score = aligner.score(seq1, seq2)\n",
        "print(\"Score = %d\" % score)\n",
        "print(\"Algoritmo: %s\" % aligner.algorithm)"
      ],
      "metadata": {
        "colab": {
          "base_uri": "https://localhost:8080/"
        },
        "id": "xNrXqAzB1Gro",
        "outputId": "1a7a05f7-8948-45cb-f3a8-9f190a6162ec"
      },
      "execution_count": 6,
      "outputs": [
        {
          "output_type": "stream",
          "name": "stdout",
          "text": [
            "    GCATGCG\n",
            "     ||\n",
            "GATTACA\n",
            "\n",
            "GCATGCG\n",
            "  ||\n",
            " GATTACA\n",
            "\n",
            "Score = 2\n",
            "Algoritmo: Smith-Waterman\n"
          ]
        }
      ]
    }
  ]
}